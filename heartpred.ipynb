{
 "cells": [
  {
   "cell_type": "code",
   "execution_count": 4,
   "id": "66701518",
   "metadata": {},
   "outputs": [
    {
     "name": "stdout",
     "output_type": "stream",
     "text": [
      "Requirement already satisfied: numpy in c:\\users\\bhagy\\onedrive - sfc.edu\\desktop\\heart_prediction\\.venv\\lib\\site-packages (from -r requirements.txt (line 1)) (2.2.6)\n",
      "Collecting pandas (from -r requirements.txt (line 2))\n",
      "  Using cached pandas-2.2.3-cp312-cp312-win_amd64.whl.metadata (19 kB)\n",
      "Collecting matplotlib (from -r requirements.txt (line 3))\n",
      "  Using cached matplotlib-3.10.3-cp312-cp312-win_amd64.whl.metadata (11 kB)\n",
      "Collecting seaborn (from -r requirements.txt (line 4))\n",
      "  Using cached seaborn-0.13.2-py3-none-any.whl.metadata (5.4 kB)\n",
      "Requirement already satisfied: scikit-learn in c:\\users\\bhagy\\onedrive - sfc.edu\\desktop\\heart_prediction\\.venv\\lib\\site-packages (from -r requirements.txt (line 5)) (1.6.1)\n",
      "Collecting notebook (from -r requirements.txt (line 6))\n",
      "  Using cached notebook-7.4.2-py3-none-any.whl.metadata (10 kB)\n",
      "Requirement already satisfied: python-dateutil>=2.8.2 in c:\\users\\bhagy\\onedrive - sfc.edu\\desktop\\heart_prediction\\.venv\\lib\\site-packages (from pandas->-r requirements.txt (line 2)) (2.9.0.post0)\n",
      "Requirement already satisfied: pytz>=2020.1 in c:\\users\\bhagy\\onedrive - sfc.edu\\desktop\\heart_prediction\\.venv\\lib\\site-packages (from pandas->-r requirements.txt (line 2)) (2025.2)\n",
      "Requirement already satisfied: tzdata>=2022.7 in c:\\users\\bhagy\\onedrive - sfc.edu\\desktop\\heart_prediction\\.venv\\lib\\site-packages (from pandas->-r requirements.txt (line 2)) (2025.2)\n",
      "Requirement already satisfied: contourpy>=1.0.1 in c:\\users\\bhagy\\onedrive - sfc.edu\\desktop\\heart_prediction\\.venv\\lib\\site-packages (from matplotlib->-r requirements.txt (line 3)) (1.3.2)\n",
      "Requirement already satisfied: cycler>=0.10 in c:\\users\\bhagy\\onedrive - sfc.edu\\desktop\\heart_prediction\\.venv\\lib\\site-packages (from matplotlib->-r requirements.txt (line 3)) (0.12.1)\n",
      "Requirement already satisfied: fonttools>=4.22.0 in c:\\users\\bhagy\\onedrive - sfc.edu\\desktop\\heart_prediction\\.venv\\lib\\site-packages (from matplotlib->-r requirements.txt (line 3)) (4.58.0)\n",
      "Requirement already satisfied: kiwisolver>=1.3.1 in c:\\users\\bhagy\\onedrive - sfc.edu\\desktop\\heart_prediction\\.venv\\lib\\site-packages (from matplotlib->-r requirements.txt (line 3)) (1.4.8)\n",
      "Requirement already satisfied: packaging>=20.0 in c:\\users\\bhagy\\onedrive - sfc.edu\\desktop\\heart_prediction\\.venv\\lib\\site-packages (from matplotlib->-r requirements.txt (line 3)) (25.0)\n",
      "Requirement already satisfied: pillow>=8 in c:\\users\\bhagy\\onedrive - sfc.edu\\desktop\\heart_prediction\\.venv\\lib\\site-packages (from matplotlib->-r requirements.txt (line 3)) (11.2.1)\n",
      "Requirement already satisfied: pyparsing>=2.3.1 in c:\\users\\bhagy\\onedrive - sfc.edu\\desktop\\heart_prediction\\.venv\\lib\\site-packages (from matplotlib->-r requirements.txt (line 3)) (3.2.3)\n",
      "Requirement already satisfied: scipy>=1.6.0 in c:\\users\\bhagy\\onedrive - sfc.edu\\desktop\\heart_prediction\\.venv\\lib\\site-packages (from scikit-learn->-r requirements.txt (line 5)) (1.15.3)\n",
      "Requirement already satisfied: joblib>=1.2.0 in c:\\users\\bhagy\\onedrive - sfc.edu\\desktop\\heart_prediction\\.venv\\lib\\site-packages (from scikit-learn->-r requirements.txt (line 5)) (1.5.0)\n",
      "Requirement already satisfied: threadpoolctl>=3.1.0 in c:\\users\\bhagy\\onedrive - sfc.edu\\desktop\\heart_prediction\\.venv\\lib\\site-packages (from scikit-learn->-r requirements.txt (line 5)) (3.6.0)\n",
      "Collecting jupyter-server<3,>=2.4.0 (from notebook->-r requirements.txt (line 6))\n",
      "  Using cached jupyter_server-2.16.0-py3-none-any.whl.metadata (8.5 kB)\n",
      "Collecting jupyterlab-server<3,>=2.27.1 (from notebook->-r requirements.txt (line 6))\n",
      "  Using cached jupyterlab_server-2.27.3-py3-none-any.whl.metadata (5.9 kB)\n",
      "Collecting jupyterlab<4.5,>=4.4.0 (from notebook->-r requirements.txt (line 6))\n",
      "  Using cached jupyterlab-4.4.2-py3-none-any.whl.metadata (16 kB)\n",
      "Collecting notebook-shim<0.3,>=0.2 (from notebook->-r requirements.txt (line 6))\n",
      "  Using cached notebook_shim-0.2.4-py3-none-any.whl.metadata (4.0 kB)\n",
      "Requirement already satisfied: tornado>=6.2.0 in c:\\users\\bhagy\\onedrive - sfc.edu\\desktop\\heart_prediction\\.venv\\lib\\site-packages (from notebook->-r requirements.txt (line 6)) (6.5)\n",
      "Requirement already satisfied: anyio>=3.1.0 in c:\\users\\bhagy\\onedrive - sfc.edu\\desktop\\heart_prediction\\.venv\\lib\\site-packages (from jupyter-server<3,>=2.4.0->notebook->-r requirements.txt (line 6)) (4.9.0)\n",
      "Collecting argon2-cffi>=21.1 (from jupyter-server<3,>=2.4.0->notebook->-r requirements.txt (line 6))\n",
      "  Using cached argon2_cffi-23.1.0-py3-none-any.whl.metadata (5.2 kB)\n",
      "Requirement already satisfied: jinja2>=3.0.3 in c:\\users\\bhagy\\onedrive - sfc.edu\\desktop\\heart_prediction\\.venv\\lib\\site-packages (from jupyter-server<3,>=2.4.0->notebook->-r requirements.txt (line 6)) (3.1.6)\n",
      "Requirement already satisfied: jupyter-client>=7.4.4 in c:\\users\\bhagy\\onedrive - sfc.edu\\desktop\\heart_prediction\\.venv\\lib\\site-packages (from jupyter-server<3,>=2.4.0->notebook->-r requirements.txt (line 6)) (8.6.3)\n",
      "Requirement already satisfied: jupyter-core!=5.0.*,>=4.12 in c:\\users\\bhagy\\onedrive - sfc.edu\\desktop\\heart_prediction\\.venv\\lib\\site-packages (from jupyter-server<3,>=2.4.0->notebook->-r requirements.txt (line 6)) (5.7.2)\n",
      "Collecting jupyter-events>=0.11.0 (from jupyter-server<3,>=2.4.0->notebook->-r requirements.txt (line 6))\n",
      "  Using cached jupyter_events-0.12.0-py3-none-any.whl.metadata (5.8 kB)\n",
      "Collecting jupyter-server-terminals>=0.4.4 (from jupyter-server<3,>=2.4.0->notebook->-r requirements.txt (line 6))\n",
      "  Using cached jupyter_server_terminals-0.5.3-py3-none-any.whl.metadata (5.6 kB)\n",
      "Collecting nbconvert>=6.4.4 (from jupyter-server<3,>=2.4.0->notebook->-r requirements.txt (line 6))\n",
      "  Using cached nbconvert-7.16.6-py3-none-any.whl.metadata (8.5 kB)\n",
      "Collecting nbformat>=5.3.0 (from jupyter-server<3,>=2.4.0->notebook->-r requirements.txt (line 6))\n",
      "  Using cached nbformat-5.10.4-py3-none-any.whl.metadata (3.6 kB)\n",
      "Requirement already satisfied: overrides>=5.0 in c:\\users\\bhagy\\onedrive - sfc.edu\\desktop\\heart_prediction\\.venv\\lib\\site-packages (from jupyter-server<3,>=2.4.0->notebook->-r requirements.txt (line 6)) (7.7.0)\n",
      "Requirement already satisfied: prometheus-client>=0.9 in c:\\users\\bhagy\\onedrive - sfc.edu\\desktop\\heart_prediction\\.venv\\lib\\site-packages (from jupyter-server<3,>=2.4.0->notebook->-r requirements.txt (line 6)) (0.22.0)\n",
      "Requirement already satisfied: pywinpty>=2.0.1 in c:\\users\\bhagy\\onedrive - sfc.edu\\desktop\\heart_prediction\\.venv\\lib\\site-packages (from jupyter-server<3,>=2.4.0->notebook->-r requirements.txt (line 6)) (2.0.15)\n",
      "Requirement already satisfied: pyzmq>=24 in c:\\users\\bhagy\\onedrive - sfc.edu\\desktop\\heart_prediction\\.venv\\lib\\site-packages (from jupyter-server<3,>=2.4.0->notebook->-r requirements.txt (line 6)) (26.4.0)\n",
      "Requirement already satisfied: send2trash>=1.8.2 in c:\\users\\bhagy\\onedrive - sfc.edu\\desktop\\heart_prediction\\.venv\\lib\\site-packages (from jupyter-server<3,>=2.4.0->notebook->-r requirements.txt (line 6)) (1.8.3)\n",
      "Requirement already satisfied: terminado>=0.8.3 in c:\\users\\bhagy\\onedrive - sfc.edu\\desktop\\heart_prediction\\.venv\\lib\\site-packages (from jupyter-server<3,>=2.4.0->notebook->-r requirements.txt (line 6)) (0.18.1)\n",
      "Requirement already satisfied: traitlets>=5.6.0 in c:\\users\\bhagy\\onedrive - sfc.edu\\desktop\\heart_prediction\\.venv\\lib\\site-packages (from jupyter-server<3,>=2.4.0->notebook->-r requirements.txt (line 6)) (5.14.3)\n",
      "Requirement already satisfied: websocket-client>=1.7 in c:\\users\\bhagy\\onedrive - sfc.edu\\desktop\\heart_prediction\\.venv\\lib\\site-packages (from jupyter-server<3,>=2.4.0->notebook->-r requirements.txt (line 6)) (1.8.0)\n",
      "Requirement already satisfied: async-lru>=1.0.0 in c:\\users\\bhagy\\onedrive - sfc.edu\\desktop\\heart_prediction\\.venv\\lib\\site-packages (from jupyterlab<4.5,>=4.4.0->notebook->-r requirements.txt (line 6)) (2.0.5)\n",
      "Collecting httpx>=0.25.0 (from jupyterlab<4.5,>=4.4.0->notebook->-r requirements.txt (line 6))\n",
      "  Using cached httpx-0.28.1-py3-none-any.whl.metadata (7.1 kB)\n",
      "Requirement already satisfied: ipykernel>=6.5.0 in c:\\users\\bhagy\\onedrive - sfc.edu\\desktop\\heart_prediction\\.venv\\lib\\site-packages (from jupyterlab<4.5,>=4.4.0->notebook->-r requirements.txt (line 6)) (6.29.5)\n",
      "Collecting jupyter-lsp>=2.0.0 (from jupyterlab<4.5,>=4.4.0->notebook->-r requirements.txt (line 6))\n",
      "  Using cached jupyter_lsp-2.2.5-py3-none-any.whl.metadata (1.8 kB)\n",
      "Requirement already satisfied: setuptools>=41.1.0 in c:\\users\\bhagy\\onedrive - sfc.edu\\desktop\\heart_prediction\\.venv\\lib\\site-packages (from jupyterlab<4.5,>=4.4.0->notebook->-r requirements.txt (line 6)) (80.8.0)\n",
      "Requirement already satisfied: babel>=2.10 in c:\\users\\bhagy\\onedrive - sfc.edu\\desktop\\heart_prediction\\.venv\\lib\\site-packages (from jupyterlab-server<3,>=2.27.1->notebook->-r requirements.txt (line 6)) (2.17.0)\n",
      "Requirement already satisfied: json5>=0.9.0 in c:\\users\\bhagy\\onedrive - sfc.edu\\desktop\\heart_prediction\\.venv\\lib\\site-packages (from jupyterlab-server<3,>=2.27.1->notebook->-r requirements.txt (line 6)) (0.12.0)\n",
      "Collecting jsonschema>=4.18.0 (from jupyterlab-server<3,>=2.27.1->notebook->-r requirements.txt (line 6))\n",
      "  Using cached jsonschema-4.23.0-py3-none-any.whl.metadata (7.9 kB)\n",
      "Requirement already satisfied: requests>=2.31 in c:\\users\\bhagy\\onedrive - sfc.edu\\desktop\\heart_prediction\\.venv\\lib\\site-packages (from jupyterlab-server<3,>=2.27.1->notebook->-r requirements.txt (line 6)) (2.32.3)\n",
      "Requirement already satisfied: idna>=2.8 in c:\\users\\bhagy\\onedrive - sfc.edu\\desktop\\heart_prediction\\.venv\\lib\\site-packages (from anyio>=3.1.0->jupyter-server<3,>=2.4.0->notebook->-r requirements.txt (line 6)) (3.10)\n",
      "Requirement already satisfied: sniffio>=1.1 in c:\\users\\bhagy\\onedrive - sfc.edu\\desktop\\heart_prediction\\.venv\\lib\\site-packages (from anyio>=3.1.0->jupyter-server<3,>=2.4.0->notebook->-r requirements.txt (line 6)) (1.3.1)\n",
      "Requirement already satisfied: typing_extensions>=4.5 in c:\\users\\bhagy\\onedrive - sfc.edu\\desktop\\heart_prediction\\.venv\\lib\\site-packages (from anyio>=3.1.0->jupyter-server<3,>=2.4.0->notebook->-r requirements.txt (line 6)) (4.13.2)\n",
      "Collecting argon2-cffi-bindings (from argon2-cffi>=21.1->jupyter-server<3,>=2.4.0->notebook->-r requirements.txt (line 6))\n",
      "  Using cached argon2_cffi_bindings-21.2.0-cp36-abi3-win_amd64.whl.metadata (6.7 kB)\n",
      "Requirement already satisfied: certifi in c:\\users\\bhagy\\onedrive - sfc.edu\\desktop\\heart_prediction\\.venv\\lib\\site-packages (from httpx>=0.25.0->jupyterlab<4.5,>=4.4.0->notebook->-r requirements.txt (line 6)) (2025.4.26)\n",
      "Requirement already satisfied: httpcore==1.* in c:\\users\\bhagy\\onedrive - sfc.edu\\desktop\\heart_prediction\\.venv\\lib\\site-packages (from httpx>=0.25.0->jupyterlab<4.5,>=4.4.0->notebook->-r requirements.txt (line 6)) (1.0.9)\n",
      "Requirement already satisfied: h11>=0.16 in c:\\users\\bhagy\\onedrive - sfc.edu\\desktop\\heart_prediction\\.venv\\lib\\site-packages (from httpcore==1.*->httpx>=0.25.0->jupyterlab<4.5,>=4.4.0->notebook->-r requirements.txt (line 6)) (0.16.0)\n",
      "Requirement already satisfied: comm>=0.1.1 in c:\\users\\bhagy\\onedrive - sfc.edu\\desktop\\heart_prediction\\.venv\\lib\\site-packages (from ipykernel>=6.5.0->jupyterlab<4.5,>=4.4.0->notebook->-r requirements.txt (line 6)) (0.2.2)\n",
      "Requirement already satisfied: debugpy>=1.6.5 in c:\\users\\bhagy\\onedrive - sfc.edu\\desktop\\heart_prediction\\.venv\\lib\\site-packages (from ipykernel>=6.5.0->jupyterlab<4.5,>=4.4.0->notebook->-r requirements.txt (line 6)) (1.8.14)\n",
      "Requirement already satisfied: ipython>=7.23.1 in c:\\users\\bhagy\\onedrive - sfc.edu\\desktop\\heart_prediction\\.venv\\lib\\site-packages (from ipykernel>=6.5.0->jupyterlab<4.5,>=4.4.0->notebook->-r requirements.txt (line 6)) (9.2.0)\n",
      "Requirement already satisfied: matplotlib-inline>=0.1 in c:\\users\\bhagy\\onedrive - sfc.edu\\desktop\\heart_prediction\\.venv\\lib\\site-packages (from ipykernel>=6.5.0->jupyterlab<4.5,>=4.4.0->notebook->-r requirements.txt (line 6)) (0.1.7)\n",
      "Requirement already satisfied: nest-asyncio in c:\\users\\bhagy\\onedrive - sfc.edu\\desktop\\heart_prediction\\.venv\\lib\\site-packages (from ipykernel>=6.5.0->jupyterlab<4.5,>=4.4.0->notebook->-r requirements.txt (line 6)) (1.6.0)\n",
      "Requirement already satisfied: psutil in c:\\users\\bhagy\\onedrive - sfc.edu\\desktop\\heart_prediction\\.venv\\lib\\site-packages (from ipykernel>=6.5.0->jupyterlab<4.5,>=4.4.0->notebook->-r requirements.txt (line 6)) (7.0.0)\n",
      "Requirement already satisfied: colorama in c:\\users\\bhagy\\onedrive - sfc.edu\\desktop\\heart_prediction\\.venv\\lib\\site-packages (from ipython>=7.23.1->ipykernel>=6.5.0->jupyterlab<4.5,>=4.4.0->notebook->-r requirements.txt (line 6)) (0.4.6)\n",
      "Requirement already satisfied: decorator in c:\\users\\bhagy\\onedrive - sfc.edu\\desktop\\heart_prediction\\.venv\\lib\\site-packages (from ipython>=7.23.1->ipykernel>=6.5.0->jupyterlab<4.5,>=4.4.0->notebook->-r requirements.txt (line 6)) (5.2.1)\n",
      "Requirement already satisfied: ipython-pygments-lexers in c:\\users\\bhagy\\onedrive - sfc.edu\\desktop\\heart_prediction\\.venv\\lib\\site-packages (from ipython>=7.23.1->ipykernel>=6.5.0->jupyterlab<4.5,>=4.4.0->notebook->-r requirements.txt (line 6)) (1.1.1)\n",
      "Requirement already satisfied: jedi>=0.16 in c:\\users\\bhagy\\onedrive - sfc.edu\\desktop\\heart_prediction\\.venv\\lib\\site-packages (from ipython>=7.23.1->ipykernel>=6.5.0->jupyterlab<4.5,>=4.4.0->notebook->-r requirements.txt (line 6)) (0.19.2)\n",
      "Requirement already satisfied: prompt_toolkit<3.1.0,>=3.0.41 in c:\\users\\bhagy\\onedrive - sfc.edu\\desktop\\heart_prediction\\.venv\\lib\\site-packages (from ipython>=7.23.1->ipykernel>=6.5.0->jupyterlab<4.5,>=4.4.0->notebook->-r requirements.txt (line 6)) (3.0.51)\n",
      "Requirement already satisfied: pygments>=2.4.0 in c:\\users\\bhagy\\onedrive - sfc.edu\\desktop\\heart_prediction\\.venv\\lib\\site-packages (from ipython>=7.23.1->ipykernel>=6.5.0->jupyterlab<4.5,>=4.4.0->notebook->-r requirements.txt (line 6)) (2.19.1)\n",
      "Requirement already satisfied: stack_data in c:\\users\\bhagy\\onedrive - sfc.edu\\desktop\\heart_prediction\\.venv\\lib\\site-packages (from ipython>=7.23.1->ipykernel>=6.5.0->jupyterlab<4.5,>=4.4.0->notebook->-r requirements.txt (line 6)) (0.6.3)\n",
      "Requirement already satisfied: wcwidth in c:\\users\\bhagy\\onedrive - sfc.edu\\desktop\\heart_prediction\\.venv\\lib\\site-packages (from prompt_toolkit<3.1.0,>=3.0.41->ipython>=7.23.1->ipykernel>=6.5.0->jupyterlab<4.5,>=4.4.0->notebook->-r requirements.txt (line 6)) (0.2.13)\n",
      "Requirement already satisfied: parso<0.9.0,>=0.8.4 in c:\\users\\bhagy\\onedrive - sfc.edu\\desktop\\heart_prediction\\.venv\\lib\\site-packages (from jedi>=0.16->ipython>=7.23.1->ipykernel>=6.5.0->jupyterlab<4.5,>=4.4.0->notebook->-r requirements.txt (line 6)) (0.8.4)\n",
      "Requirement already satisfied: MarkupSafe>=2.0 in c:\\users\\bhagy\\onedrive - sfc.edu\\desktop\\heart_prediction\\.venv\\lib\\site-packages (from jinja2>=3.0.3->jupyter-server<3,>=2.4.0->notebook->-r requirements.txt (line 6)) (3.0.2)\n",
      "Requirement already satisfied: attrs>=22.2.0 in c:\\users\\bhagy\\onedrive - sfc.edu\\desktop\\heart_prediction\\.venv\\lib\\site-packages (from jsonschema>=4.18.0->jupyterlab-server<3,>=2.27.1->notebook->-r requirements.txt (line 6)) (25.3.0)\n",
      "Collecting jsonschema-specifications>=2023.03.6 (from jsonschema>=4.18.0->jupyterlab-server<3,>=2.27.1->notebook->-r requirements.txt (line 6))\n",
      "  Using cached jsonschema_specifications-2025.4.1-py3-none-any.whl.metadata (2.9 kB)\n",
      "Requirement already satisfied: referencing>=0.28.4 in c:\\users\\bhagy\\onedrive - sfc.edu\\desktop\\heart_prediction\\.venv\\lib\\site-packages (from jsonschema>=4.18.0->jupyterlab-server<3,>=2.27.1->notebook->-r requirements.txt (line 6)) (0.36.2)\n",
      "Requirement already satisfied: rpds-py>=0.7.1 in c:\\users\\bhagy\\onedrive - sfc.edu\\desktop\\heart_prediction\\.venv\\lib\\site-packages (from jsonschema>=4.18.0->jupyterlab-server<3,>=2.27.1->notebook->-r requirements.txt (line 6)) (0.25.1)\n",
      "Requirement already satisfied: platformdirs>=2.5 in c:\\users\\bhagy\\onedrive - sfc.edu\\desktop\\heart_prediction\\.venv\\lib\\site-packages (from jupyter-core!=5.0.*,>=4.12->jupyter-server<3,>=2.4.0->notebook->-r requirements.txt (line 6)) (4.3.8)\n",
      "Requirement already satisfied: pywin32>=300 in c:\\users\\bhagy\\onedrive - sfc.edu\\desktop\\heart_prediction\\.venv\\lib\\site-packages (from jupyter-core!=5.0.*,>=4.12->jupyter-server<3,>=2.4.0->notebook->-r requirements.txt (line 6)) (310)\n",
      "Requirement already satisfied: python-json-logger>=2.0.4 in c:\\users\\bhagy\\onedrive - sfc.edu\\desktop\\heart_prediction\\.venv\\lib\\site-packages (from jupyter-events>=0.11.0->jupyter-server<3,>=2.4.0->notebook->-r requirements.txt (line 6)) (3.3.0)\n",
      "Requirement already satisfied: pyyaml>=5.3 in c:\\users\\bhagy\\onedrive - sfc.edu\\desktop\\heart_prediction\\.venv\\lib\\site-packages (from jupyter-events>=0.11.0->jupyter-server<3,>=2.4.0->notebook->-r requirements.txt (line 6)) (6.0.2)\n",
      "Requirement already satisfied: rfc3339-validator in c:\\users\\bhagy\\onedrive - sfc.edu\\desktop\\heart_prediction\\.venv\\lib\\site-packages (from jupyter-events>=0.11.0->jupyter-server<3,>=2.4.0->notebook->-r requirements.txt (line 6)) (0.1.4)\n",
      "Requirement already satisfied: rfc3986-validator>=0.1.1 in c:\\users\\bhagy\\onedrive - sfc.edu\\desktop\\heart_prediction\\.venv\\lib\\site-packages (from jupyter-events>=0.11.0->jupyter-server<3,>=2.4.0->notebook->-r requirements.txt (line 6)) (0.1.1)\n",
      "Requirement already satisfied: fqdn in c:\\users\\bhagy\\onedrive - sfc.edu\\desktop\\heart_prediction\\.venv\\lib\\site-packages (from jsonschema[format-nongpl]>=4.18.0->jupyter-events>=0.11.0->jupyter-server<3,>=2.4.0->notebook->-r requirements.txt (line 6)) (1.5.1)\n",
      "Collecting isoduration (from jsonschema[format-nongpl]>=4.18.0->jupyter-events>=0.11.0->jupyter-server<3,>=2.4.0->notebook->-r requirements.txt (line 6))\n",
      "  Using cached isoduration-20.11.0-py3-none-any.whl.metadata (5.7 kB)\n",
      "Requirement already satisfied: jsonpointer>1.13 in c:\\users\\bhagy\\onedrive - sfc.edu\\desktop\\heart_prediction\\.venv\\lib\\site-packages (from jsonschema[format-nongpl]>=4.18.0->jupyter-events>=0.11.0->jupyter-server<3,>=2.4.0->notebook->-r requirements.txt (line 6)) (3.0.0)\n",
      "Requirement already satisfied: uri-template in c:\\users\\bhagy\\onedrive - sfc.edu\\desktop\\heart_prediction\\.venv\\lib\\site-packages (from jsonschema[format-nongpl]>=4.18.0->jupyter-events>=0.11.0->jupyter-server<3,>=2.4.0->notebook->-r requirements.txt (line 6)) (1.3.0)\n",
      "Requirement already satisfied: webcolors>=24.6.0 in c:\\users\\bhagy\\onedrive - sfc.edu\\desktop\\heart_prediction\\.venv\\lib\\site-packages (from jsonschema[format-nongpl]>=4.18.0->jupyter-events>=0.11.0->jupyter-server<3,>=2.4.0->notebook->-r requirements.txt (line 6)) (24.11.1)\n",
      "Requirement already satisfied: beautifulsoup4 in c:\\users\\bhagy\\onedrive - sfc.edu\\desktop\\heart_prediction\\.venv\\lib\\site-packages (from nbconvert>=6.4.4->jupyter-server<3,>=2.4.0->notebook->-r requirements.txt (line 6)) (4.13.4)\n",
      "Requirement already satisfied: bleach!=5.0.0 in c:\\users\\bhagy\\onedrive - sfc.edu\\desktop\\heart_prediction\\.venv\\lib\\site-packages (from bleach[css]!=5.0.0->nbconvert>=6.4.4->jupyter-server<3,>=2.4.0->notebook->-r requirements.txt (line 6)) (6.2.0)\n",
      "Requirement already satisfied: defusedxml in c:\\users\\bhagy\\onedrive - sfc.edu\\desktop\\heart_prediction\\.venv\\lib\\site-packages (from nbconvert>=6.4.4->jupyter-server<3,>=2.4.0->notebook->-r requirements.txt (line 6)) (0.7.1)\n",
      "Requirement already satisfied: jupyterlab-pygments in c:\\users\\bhagy\\onedrive - sfc.edu\\desktop\\heart_prediction\\.venv\\lib\\site-packages (from nbconvert>=6.4.4->jupyter-server<3,>=2.4.0->notebook->-r requirements.txt (line 6)) (0.3.0)\n",
      "Requirement already satisfied: mistune<4,>=2.0.3 in c:\\users\\bhagy\\onedrive - sfc.edu\\desktop\\heart_prediction\\.venv\\lib\\site-packages (from nbconvert>=6.4.4->jupyter-server<3,>=2.4.0->notebook->-r requirements.txt (line 6)) (3.1.3)\n",
      "Collecting nbclient>=0.5.0 (from nbconvert>=6.4.4->jupyter-server<3,>=2.4.0->notebook->-r requirements.txt (line 6))\n",
      "  Using cached nbclient-0.10.2-py3-none-any.whl.metadata (8.3 kB)\n",
      "Requirement already satisfied: pandocfilters>=1.4.1 in c:\\users\\bhagy\\onedrive - sfc.edu\\desktop\\heart_prediction\\.venv\\lib\\site-packages (from nbconvert>=6.4.4->jupyter-server<3,>=2.4.0->notebook->-r requirements.txt (line 6)) (1.5.1)\n",
      "Requirement already satisfied: webencodings in c:\\users\\bhagy\\onedrive - sfc.edu\\desktop\\heart_prediction\\.venv\\lib\\site-packages (from bleach!=5.0.0->bleach[css]!=5.0.0->nbconvert>=6.4.4->jupyter-server<3,>=2.4.0->notebook->-r requirements.txt (line 6)) (0.5.1)\n",
      "Requirement already satisfied: tinycss2<1.5,>=1.1.0 in c:\\users\\bhagy\\onedrive - sfc.edu\\desktop\\heart_prediction\\.venv\\lib\\site-packages (from bleach[css]!=5.0.0->nbconvert>=6.4.4->jupyter-server<3,>=2.4.0->notebook->-r requirements.txt (line 6)) (1.4.0)\n",
      "Requirement already satisfied: fastjsonschema>=2.15 in c:\\users\\bhagy\\onedrive - sfc.edu\\desktop\\heart_prediction\\.venv\\lib\\site-packages (from nbformat>=5.3.0->jupyter-server<3,>=2.4.0->notebook->-r requirements.txt (line 6)) (2.21.1)\n",
      "Requirement already satisfied: six>=1.5 in c:\\users\\bhagy\\onedrive - sfc.edu\\desktop\\heart_prediction\\.venv\\lib\\site-packages (from python-dateutil>=2.8.2->pandas->-r requirements.txt (line 2)) (1.17.0)\n",
      "Requirement already satisfied: charset-normalizer<4,>=2 in c:\\users\\bhagy\\onedrive - sfc.edu\\desktop\\heart_prediction\\.venv\\lib\\site-packages (from requests>=2.31->jupyterlab-server<3,>=2.27.1->notebook->-r requirements.txt (line 6)) (3.4.2)\n",
      "Requirement already satisfied: urllib3<3,>=1.21.1 in c:\\users\\bhagy\\onedrive - sfc.edu\\desktop\\heart_prediction\\.venv\\lib\\site-packages (from requests>=2.31->jupyterlab-server<3,>=2.27.1->notebook->-r requirements.txt (line 6)) (2.4.0)\n",
      "Requirement already satisfied: cffi>=1.0.1 in c:\\users\\bhagy\\onedrive - sfc.edu\\desktop\\heart_prediction\\.venv\\lib\\site-packages (from argon2-cffi-bindings->argon2-cffi>=21.1->jupyter-server<3,>=2.4.0->notebook->-r requirements.txt (line 6)) (1.17.1)\n",
      "Requirement already satisfied: pycparser in c:\\users\\bhagy\\onedrive - sfc.edu\\desktop\\heart_prediction\\.venv\\lib\\site-packages (from cffi>=1.0.1->argon2-cffi-bindings->argon2-cffi>=21.1->jupyter-server<3,>=2.4.0->notebook->-r requirements.txt (line 6)) (2.22)\n",
      "Requirement already satisfied: soupsieve>1.2 in c:\\users\\bhagy\\onedrive - sfc.edu\\desktop\\heart_prediction\\.venv\\lib\\site-packages (from beautifulsoup4->nbconvert>=6.4.4->jupyter-server<3,>=2.4.0->notebook->-r requirements.txt (line 6)) (2.7)\n",
      "Collecting arrow>=0.15.0 (from isoduration->jsonschema[format-nongpl]>=4.18.0->jupyter-events>=0.11.0->jupyter-server<3,>=2.4.0->notebook->-r requirements.txt (line 6))\n",
      "  Using cached arrow-1.3.0-py3-none-any.whl.metadata (7.5 kB)\n",
      "Requirement already satisfied: types-python-dateutil>=2.8.10 in c:\\users\\bhagy\\onedrive - sfc.edu\\desktop\\heart_prediction\\.venv\\lib\\site-packages (from arrow>=0.15.0->isoduration->jsonschema[format-nongpl]>=4.18.0->jupyter-events>=0.11.0->jupyter-server<3,>=2.4.0->notebook->-r requirements.txt (line 6)) (2.9.0.20250516)\n",
      "Requirement already satisfied: executing>=1.2.0 in c:\\users\\bhagy\\onedrive - sfc.edu\\desktop\\heart_prediction\\.venv\\lib\\site-packages (from stack_data->ipython>=7.23.1->ipykernel>=6.5.0->jupyterlab<4.5,>=4.4.0->notebook->-r requirements.txt (line 6)) (2.2.0)\n",
      "Requirement already satisfied: asttokens>=2.1.0 in c:\\users\\bhagy\\onedrive - sfc.edu\\desktop\\heart_prediction\\.venv\\lib\\site-packages (from stack_data->ipython>=7.23.1->ipykernel>=6.5.0->jupyterlab<4.5,>=4.4.0->notebook->-r requirements.txt (line 6)) (3.0.0)\n",
      "Requirement already satisfied: pure-eval in c:\\users\\bhagy\\onedrive - sfc.edu\\desktop\\heart_prediction\\.venv\\lib\\site-packages (from stack_data->ipython>=7.23.1->ipykernel>=6.5.0->jupyterlab<4.5,>=4.4.0->notebook->-r requirements.txt (line 6)) (0.2.3)\n",
      "Using cached pandas-2.2.3-cp312-cp312-win_amd64.whl (11.5 MB)\n",
      "Using cached matplotlib-3.10.3-cp312-cp312-win_amd64.whl (8.1 MB)\n",
      "Using cached seaborn-0.13.2-py3-none-any.whl (294 kB)\n",
      "Using cached notebook-7.4.2-py3-none-any.whl (14.3 MB)\n",
      "Using cached jupyter_server-2.16.0-py3-none-any.whl (386 kB)\n",
      "Using cached jupyterlab-4.4.2-py3-none-any.whl (12.3 MB)\n",
      "Using cached jupyterlab_server-2.27.3-py3-none-any.whl (59 kB)\n",
      "Using cached notebook_shim-0.2.4-py3-none-any.whl (13 kB)\n",
      "Using cached argon2_cffi-23.1.0-py3-none-any.whl (15 kB)\n",
      "Using cached httpx-0.28.1-py3-none-any.whl (73 kB)\n",
      "Using cached jsonschema-4.23.0-py3-none-any.whl (88 kB)\n",
      "Using cached jsonschema_specifications-2025.4.1-py3-none-any.whl (18 kB)\n",
      "Using cached jupyter_events-0.12.0-py3-none-any.whl (19 kB)\n",
      "Using cached jupyter_lsp-2.2.5-py3-none-any.whl (69 kB)\n",
      "Using cached jupyter_server_terminals-0.5.3-py3-none-any.whl (13 kB)\n",
      "Using cached nbconvert-7.16.6-py3-none-any.whl (258 kB)\n",
      "Using cached nbclient-0.10.2-py3-none-any.whl (25 kB)\n",
      "Using cached nbformat-5.10.4-py3-none-any.whl (78 kB)\n",
      "Using cached argon2_cffi_bindings-21.2.0-cp36-abi3-win_amd64.whl (30 kB)\n",
      "Using cached isoduration-20.11.0-py3-none-any.whl (11 kB)\n",
      "Using cached arrow-1.3.0-py3-none-any.whl (66 kB)\n",
      "Installing collected packages: pandas, matplotlib, jupyter-server-terminals, jsonschema-specifications, httpx, arrow, argon2-cffi-bindings, seaborn, jsonschema, isoduration, argon2-cffi, nbformat, nbclient, jupyter-events, nbconvert, jupyter-server, notebook-shim, jupyterlab-server, jupyter-lsp, jupyterlab, notebook\n",
      "\n",
      "   ----------------------------------------  0/21 [pandas]\n",
      "   ----------------------------------------  0/21 [pandas]\n",
      "   ----------------------------------------  0/21 [pandas]\n",
      "   ----------------------------------------  0/21 [pandas]\n",
      "   ----------------------------------------  0/21 [pandas]\n",
      "   ----------------------------------------  0/21 [pandas]\n",
      "   ----------------------------------------  0/21 [pandas]\n",
      "   ----------------------------------------  0/21 [pandas]\n",
      "   ----------------------------------------  0/21 [pandas]\n",
      "   ----------------------------------------  0/21 [pandas]\n",
      "   ----------------------------------------  0/21 [pandas]\n",
      "   ----------------------------------------  0/21 [pandas]\n",
      "   ----------------------------------------  0/21 [pandas]\n",
      "   ----------------------------------------  0/21 [pandas]\n",
      "   ----------------------------------------  0/21 [pandas]\n",
      "   ----------------------------------------  0/21 [pandas]\n",
      "   ----------------------------------------  0/21 [pandas]\n",
      "   ----------------------------------------  0/21 [pandas]\n",
      "   ----------------------------------------  0/21 [pandas]\n",
      "   ----------------------------------------  0/21 [pandas]\n",
      "   ----------------------------------------  0/21 [pandas]\n",
      "   ----------------------------------------  0/21 [pandas]\n",
      "   ----------------------------------------  0/21 [pandas]\n",
      "   ----------------------------------------  0/21 [pandas]\n",
      "   ----------------------------------------  0/21 [pandas]\n",
      "   ----------------------------------------  0/21 [pandas]\n",
      "   ----------------------------------------  0/21 [pandas]\n",
      "   ----------------------------------------  0/21 [pandas]\n",
      "   ----------------------------------------  0/21 [pandas]\n",
      "   ----------------------------------------  0/21 [pandas]\n",
      "   ----------------------------------------  0/21 [pandas]\n",
      "   ----------------------------------------  0/21 [pandas]\n",
      "   ----------------------------------------  0/21 [pandas]\n",
      "   ----------------------------------------  0/21 [pandas]\n",
      "   ----------------------------------------  0/21 [pandas]\n",
      "   ----------------------------------------  0/21 [pandas]\n",
      "   ----------------------------------------  0/21 [pandas]\n",
      "   ----------------------------------------  0/21 [pandas]\n",
      "   ----------------------------------------  0/21 [pandas]\n",
      "   ----------------------------------------  0/21 [pandas]\n",
      "   ----------------------------------------  0/21 [pandas]\n",
      "   ----------------------------------------  0/21 [pandas]\n",
      "   ----------------------------------------  0/21 [pandas]\n",
      "   ----------------------------------------  0/21 [pandas]\n",
      "   ----------------------------------------  0/21 [pandas]\n",
      "   ----------------------------------------  0/21 [pandas]\n",
      "   ----------------------------------------  0/21 [pandas]\n",
      "   ----------------------------------------  0/21 [pandas]\n",
      "   ----------------------------------------  0/21 [pandas]\n",
      "   ----------------------------------------  0/21 [pandas]\n",
      "   ----------------------------------------  0/21 [pandas]\n",
      "   ----------------------------------------  0/21 [pandas]\n",
      "   ----------------------------------------  0/21 [pandas]\n",
      "   ----------------------------------------  0/21 [pandas]\n",
      "   ----------------------------------------  0/21 [pandas]\n",
      "   ----------------------------------------  0/21 [pandas]\n",
      "   ----------------------------------------  0/21 [pandas]\n",
      "   ----------------------------------------  0/21 [pandas]\n",
      "   ----------------------------------------  0/21 [pandas]\n",
      "   ----------------------------------------  0/21 [pandas]\n",
      "   ----------------------------------------  0/21 [pandas]\n",
      "   ----------------------------------------  0/21 [pandas]\n",
      "   ----------------------------------------  0/21 [pandas]\n",
      "   ----------------------------------------  0/21 [pandas]\n",
      "   ----------------------------------------  0/21 [pandas]\n",
      "   ----------------------------------------  0/21 [pandas]\n",
      "   ----------------------------------------  0/21 [pandas]\n",
      "   ----------------------------------------  0/21 [pandas]\n",
      "   ----------------------------------------  0/21 [pandas]\n",
      "   ----------------------------------------  0/21 [pandas]\n",
      "   ----------------------------------------  0/21 [pandas]\n",
      "   ----------------------------------------  0/21 [pandas]\n",
      "   ----------------------------------------  0/21 [pandas]\n",
      "   ----------------------------------------  0/21 [pandas]\n",
      "   ----------------------------------------  0/21 [pandas]\n",
      "   ----------------------------------------  0/21 [pandas]\n",
      "   ----------------------------------------  0/21 [pandas]\n",
      "   ----------------------------------------  0/21 [pandas]\n",
      "   ----------------------------------------  0/21 [pandas]\n",
      "   ----------------------------------------  0/21 [pandas]\n",
      "   ----------------------------------------  0/21 [pandas]\n",
      "   ----------------------------------------  0/21 [pandas]\n",
      "   ----------------------------------------  0/21 [pandas]\n",
      "   ----------------------------------------  0/21 [pandas]\n",
      "   ----------------------------------------  0/21 [pandas]\n",
      "   ----------------------------------------  0/21 [pandas]\n",
      "   ----------------------------------------  0/21 [pandas]\n",
      "   ----------------------------------------  0/21 [pandas]\n",
      "   ----------------------------------------  0/21 [pandas]\n",
      "   ----------------------------------------  0/21 [pandas]\n",
      "   ----------------------------------------  0/21 [pandas]\n",
      "   ----------------------------------------  0/21 [pandas]\n",
      "   ----------------------------------------  0/21 [pandas]\n",
      "   ----------------------------------------  0/21 [pandas]\n",
      "   ----------------------------------------  0/21 [pandas]\n",
      "   ----------------------------------------  0/21 [pandas]\n",
      "   ----------------------------------------  0/21 [pandas]\n",
      "   ----------------------------------------  0/21 [pandas]\n",
      "   ----------------------------------------  0/21 [pandas]\n",
      "   ----------------------------------------  0/21 [pandas]\n",
      "   ----------------------------------------  0/21 [pandas]\n",
      "   ----------------------------------------  0/21 [pandas]\n",
      "   ----------------------------------------  0/21 [pandas]\n",
      "   ----------------------------------------  0/21 [pandas]\n",
      "   ----------------------------------------  0/21 [pandas]\n",
      "   ----------------------------------------  0/21 [pandas]\n",
      "   ----------------------------------------  0/21 [pandas]\n",
      "   ----------------------------------------  0/21 [pandas]\n",
      "   ----------------------------------------  0/21 [pandas]\n",
      "   ----------------------------------------  0/21 [pandas]\n",
      "   ----------------------------------------  0/21 [pandas]\n",
      "   ----------------------------------------  0/21 [pandas]\n",
      "   ----------------------------------------  0/21 [pandas]\n",
      "   ----------------------------------------  0/21 [pandas]\n",
      "   ----------------------------------------  0/21 [pandas]\n",
      "   ----------------------------------------  0/21 [pandas]\n",
      "   ----------------------------------------  0/21 [pandas]\n",
      "   ----------------------------------------  0/21 [pandas]\n",
      "   ----------------------------------------  0/21 [pandas]\n",
      "   ----------------------------------------  0/21 [pandas]\n",
      "   ----------------------------------------  0/21 [pandas]\n",
      "   ----------------------------------------  0/21 [pandas]\n",
      "   ----------------------------------------  0/21 [pandas]\n",
      "   ----------------------------------------  0/21 [pandas]\n",
      "   ----------------------------------------  0/21 [pandas]\n",
      "   ----------------------------------------  0/21 [pandas]\n",
      "   ----------------------------------------  0/21 [pandas]\n",
      "   ----------------------------------------  0/21 [pandas]\n",
      "   ----------------------------------------  0/21 [pandas]\n",
      "   ----------------------------------------  0/21 [pandas]\n",
      "   ----------------------------------------  0/21 [pandas]\n",
      "   ----------------------------------------  0/21 [pandas]\n",
      "   ----------------------------------------  0/21 [pandas]\n",
      "   ----------------------------------------  0/21 [pandas]\n",
      "   ----------------------------------------  0/21 [pandas]\n",
      "   ----------------------------------------  0/21 [pandas]\n",
      "   ----------------------------------------  0/21 [pandas]\n",
      "   ----------------------------------------  0/21 [pandas]\n",
      "   ----------------------------------------  0/21 [pandas]\n",
      "   ----------------------------------------  0/21 [pandas]\n",
      "   ----------------------------------------  0/21 [pandas]\n",
      "   ----------------------------------------  0/21 [pandas]\n",
      "   ----------------------------------------  0/21 [pandas]\n",
      "   ----------------------------------------  0/21 [pandas]\n",
      "   ----------------------------------------  0/21 [pandas]\n",
      "   ----------------------------------------  0/21 [pandas]\n",
      "   ----------------------------------------  0/21 [pandas]\n",
      "   ----------------------------------------  0/21 [pandas]\n",
      "   ----------------------------------------  0/21 [pandas]\n",
      "   ----------------------------------------  0/21 [pandas]\n",
      "   ----------------------------------------  0/21 [pandas]\n",
      "   ----------------------------------------  0/21 [pandas]\n",
      "   ----------------------------------------  0/21 [pandas]\n",
      "   ----------------------------------------  0/21 [pandas]\n",
      "   ----------------------------------------  0/21 [pandas]\n",
      "   ----------------------------------------  0/21 [pandas]\n",
      "   ----------------------------------------  0/21 [pandas]\n",
      "   ----------------------------------------  0/21 [pandas]\n",
      "   ----------------------------------------  0/21 [pandas]\n",
      "   ----------------------------------------  0/21 [pandas]\n",
      "   ----------------------------------------  0/21 [pandas]\n",
      "   ----------------------------------------  0/21 [pandas]\n",
      "   ----------------------------------------  0/21 [pandas]\n",
      "   ----------------------------------------  0/21 [pandas]\n",
      "   ----------------------------------------  0/21 [pandas]\n",
      "   ----------------------------------------  0/21 [pandas]\n",
      "   ----------------------------------------  0/21 [pandas]\n",
      "   ----------------------------------------  0/21 [pandas]\n",
      "   ----------------------------------------  0/21 [pandas]\n",
      "   ----------------------------------------  0/21 [pandas]\n",
      "   ----------------------------------------  0/21 [pandas]\n",
      "   ----------------------------------------  0/21 [pandas]\n",
      "   ----------------------------------------  0/21 [pandas]\n",
      "   ----------------------------------------  0/21 [pandas]\n",
      "   ----------------------------------------  0/21 [pandas]\n",
      "   ----------------------------------------  0/21 [pandas]\n",
      "   ----------------------------------------  0/21 [pandas]\n",
      "   ----------------------------------------  0/21 [pandas]\n",
      "   ----------------------------------------  0/21 [pandas]\n",
      "   ----------------------------------------  0/21 [pandas]\n",
      "   ----------------------------------------  0/21 [pandas]\n",
      "   ----------------------------------------  0/21 [pandas]\n",
      "   ----------------------------------------  0/21 [pandas]\n",
      "   ----------------------------------------  0/21 [pandas]\n",
      "   ----------------------------------------  0/21 [pandas]\n",
      "   ----------------------------------------  0/21 [pandas]\n",
      "   ----------------------------------------  0/21 [pandas]\n",
      "   ----------------------------------------  0/21 [pandas]\n",
      "   ----------------------------------------  0/21 [pandas]\n",
      "   ----------------------------------------  0/21 [pandas]\n",
      "   ----------------------------------------  0/21 [pandas]\n",
      "   ----------------------------------------  0/21 [pandas]\n",
      "   ----------------------------------------  0/21 [pandas]\n",
      "   ----------------------------------------  0/21 [pandas]\n",
      "   ----------------------------------------  0/21 [pandas]\n",
      "   ----------------------------------------  0/21 [pandas]\n",
      "   ----------------------------------------  0/21 [pandas]\n",
      "   ----------------------------------------  0/21 [pandas]\n",
      "   ----------------------------------------  0/21 [pandas]\n",
      "   ----------------------------------------  0/21 [pandas]\n",
      "   ----------------------------------------  0/21 [pandas]\n",
      "   ----------------------------------------  0/21 [pandas]\n",
      "   ----------------------------------------  0/21 [pandas]\n",
      "   ----------------------------------------  0/21 [pandas]\n",
      "   ----------------------------------------  0/21 [pandas]\n",
      "   ----------------------------------------  0/21 [pandas]\n",
      "   ----------------------------------------  0/21 [pandas]\n",
      "   ----------------------------------------  0/21 [pandas]\n",
      "   ----------------------------------------  0/21 [pandas]\n",
      "   ----------------------------------------  0/21 [pandas]\n",
      "   ----------------------------------------  0/21 [pandas]\n",
      "   ----------------------------------------  0/21 [pandas]\n",
      "   ----------------------------------------  0/21 [pandas]\n",
      "   ----------------------------------------  0/21 [pandas]\n",
      "   ----------------------------------------  0/21 [pandas]\n",
      "   ----------------------------------------  0/21 [pandas]\n",
      "   ----------------------------------------  0/21 [pandas]\n",
      "   ----------------------------------------  0/21 [pandas]\n",
      "   ----------------------------------------  0/21 [pandas]\n",
      "   ----------------------------------------  0/21 [pandas]\n",
      "   ----------------------------------------  0/21 [pandas]\n",
      "   ----------------------------------------  0/21 [pandas]\n",
      "   ----------------------------------------  0/21 [pandas]\n",
      "   ----------------------------------------  0/21 [pandas]\n",
      "   ----------------------------------------  0/21 [pandas]\n",
      "   ----------------------------------------  0/21 [pandas]\n",
      "   ----------------------------------------  0/21 [pandas]\n",
      "   ----------------------------------------  0/21 [pandas]\n",
      "   ----------------------------------------  0/21 [pandas]\n",
      "   ----------------------------------------  0/21 [pandas]\n",
      "   ----------------------------------------  0/21 [pandas]\n",
      "   ----------------------------------------  0/21 [pandas]\n",
      "   ----------------------------------------  0/21 [pandas]\n",
      "   ----------------------------------------  0/21 [pandas]\n",
      "   ----------------------------------------  0/21 [pandas]\n",
      "   ----------------------------------------  0/21 [pandas]\n",
      "   ----------------------------------------  0/21 [pandas]\n",
      "   ----------------------------------------  0/21 [pandas]\n",
      "   ----------------------------------------  0/21 [pandas]\n",
      "   ----------------------------------------  0/21 [pandas]\n",
      "   ----------------------------------------  0/21 [pandas]\n",
      "   ----------------------------------------  0/21 [pandas]\n",
      "   ----------------------------------------  0/21 [pandas]\n",
      "   ----------------------------------------  0/21 [pandas]\n",
      "   ----------------------------------------  0/21 [pandas]\n",
      "   ----------------------------------------  0/21 [pandas]\n",
      "   ----------------------------------------  0/21 [pandas]\n",
      "   ----------------------------------------  0/21 [pandas]\n",
      "   ----------------------------------------  0/21 [pandas]\n",
      "   ----------------------------------------  0/21 [pandas]\n",
      "   ----------------------------------------  0/21 [pandas]\n",
      "   ----------------------------------------  0/21 [pandas]\n",
      "   ----------------------------------------  0/21 [pandas]\n",
      "   ----------------------------------------  0/21 [pandas]\n",
      "   ----------------------------------------  0/21 [pandas]\n",
      "   ----------------------------------------  0/21 [pandas]\n",
      "   ----------------------------------------  0/21 [pandas]\n",
      "   ----------------------------------------  0/21 [pandas]\n",
      "   ----------------------------------------  0/21 [pandas]\n",
      "   ----------------------------------------  0/21 [pandas]\n",
      "   ----------------------------------------  0/21 [pandas]\n",
      "   ----------------------------------------  0/21 [pandas]\n",
      "   ----------------------------------------  0/21 [pandas]\n",
      "   ----------------------------------------  0/21 [pandas]\n",
      "   ----------------------------------------  0/21 [pandas]\n",
      "   ----------------------------------------  0/21 [pandas]\n",
      "   ----------------------------------------  0/21 [pandas]\n",
      "   ----------------------------------------  0/21 [pandas]\n",
      "   ----------------------------------------  0/21 [pandas]\n",
      "   ----------------------------------------  0/21 [pandas]\n",
      "   ----------------------------------------  0/21 [pandas]\n",
      "   ----------------------------------------  0/21 [pandas]\n",
      "   ----------------------------------------  0/21 [pandas]\n",
      "   ----------------------------------------  0/21 [pandas]\n",
      "   ----------------------------------------  0/21 [pandas]\n",
      "   ----------------------------------------  0/21 [pandas]\n",
      "   ----------------------------------------  0/21 [pandas]\n",
      "   ----------------------------------------  0/21 [pandas]\n",
      "   ----------------------------------------  0/21 [pandas]\n",
      "   ----------------------------------------  0/21 [pandas]\n",
      "   ----------------------------------------  0/21 [pandas]\n",
      "   ----------------------------------------  0/21 [pandas]\n",
      "   ----------------------------------------  0/21 [pandas]\n",
      "   ----------------------------------------  0/21 [pandas]\n",
      "   ----------------------------------------  0/21 [pandas]\n",
      "   ----------------------------------------  0/21 [pandas]\n",
      "   ----------------------------------------  0/21 [pandas]\n",
      "   ----------------------------------------  0/21 [pandas]\n",
      "   ----------------------------------------  0/21 [pandas]\n",
      "   ----------------------------------------  0/21 [pandas]\n",
      "   ----------------------------------------  0/21 [pandas]\n",
      "   ----------------------------------------  0/21 [pandas]\n",
      "   ----------------------------------------  0/21 [pandas]\n",
      "   ----------------------------------------  0/21 [pandas]\n",
      "   ----------------------------------------  0/21 [pandas]\n",
      "   ----------------------------------------  0/21 [pandas]\n",
      "   - --------------------------------------  1/21 [matplotlib]\n",
      "   - --------------------------------------  1/21 [matplotlib]\n",
      "   - --------------------------------------  1/21 [matplotlib]\n",
      "   - --------------------------------------  1/21 [matplotlib]\n",
      "   - --------------------------------------  1/21 [matplotlib]\n",
      "   - --------------------------------------  1/21 [matplotlib]\n",
      "   - --------------------------------------  1/21 [matplotlib]\n",
      "   - --------------------------------------  1/21 [matplotlib]\n",
      "   - --------------------------------------  1/21 [matplotlib]\n",
      "   - --------------------------------------  1/21 [matplotlib]\n",
      "   - --------------------------------------  1/21 [matplotlib]\n",
      "   - --------------------------------------  1/21 [matplotlib]\n",
      "   - --------------------------------------  1/21 [matplotlib]\n",
      "   - --------------------------------------  1/21 [matplotlib]\n",
      "   - --------------------------------------  1/21 [matplotlib]\n",
      "   - --------------------------------------  1/21 [matplotlib]\n",
      "   - --------------------------------------  1/21 [matplotlib]\n",
      "   - --------------------------------------  1/21 [matplotlib]\n",
      "   - --------------------------------------  1/21 [matplotlib]\n",
      "   - --------------------------------------  1/21 [matplotlib]\n",
      "   - --------------------------------------  1/21 [matplotlib]\n",
      "   - --------------------------------------  1/21 [matplotlib]\n",
      "   - --------------------------------------  1/21 [matplotlib]\n",
      "   - --------------------------------------  1/21 [matplotlib]\n",
      "   - --------------------------------------  1/21 [matplotlib]\n",
      "   - --------------------------------------  1/21 [matplotlib]\n",
      "   - --------------------------------------  1/21 [matplotlib]\n",
      "   - --------------------------------------  1/21 [matplotlib]\n",
      "   - --------------------------------------  1/21 [matplotlib]\n",
      "   - --------------------------------------  1/21 [matplotlib]\n",
      "   - --------------------------------------  1/21 [matplotlib]\n",
      "   - --------------------------------------  1/21 [matplotlib]\n",
      "   - --------------------------------------  1/21 [matplotlib]\n",
      "   - --------------------------------------  1/21 [matplotlib]\n",
      "   - --------------------------------------  1/21 [matplotlib]\n",
      "   - --------------------------------------  1/21 [matplotlib]\n",
      "   - --------------------------------------  1/21 [matplotlib]\n",
      "   - --------------------------------------  1/21 [matplotlib]\n",
      "   - --------------------------------------  1/21 [matplotlib]\n",
      "   - --------------------------------------  1/21 [matplotlib]\n",
      "   - --------------------------------------  1/21 [matplotlib]\n",
      "   - --------------------------------------  1/21 [matplotlib]\n",
      "   - --------------------------------------  1/21 [matplotlib]\n",
      "   - --------------------------------------  1/21 [matplotlib]\n",
      "   - --------------------------------------  1/21 [matplotlib]\n",
      "   - --------------------------------------  1/21 [matplotlib]\n",
      "   - --------------------------------------  1/21 [matplotlib]\n",
      "   - --------------------------------------  1/21 [matplotlib]\n",
      "   - --------------------------------------  1/21 [matplotlib]\n",
      "   - --------------------------------------  1/21 [matplotlib]\n",
      "   - --------------------------------------  1/21 [matplotlib]\n",
      "   - --------------------------------------  1/21 [matplotlib]\n",
      "   - --------------------------------------  1/21 [matplotlib]\n",
      "   - --------------------------------------  1/21 [matplotlib]\n",
      "   - --------------------------------------  1/21 [matplotlib]\n",
      "   - --------------------------------------  1/21 [matplotlib]\n",
      "   - --------------------------------------  1/21 [matplotlib]\n",
      "   - --------------------------------------  1/21 [matplotlib]\n",
      "   - --------------------------------------  1/21 [matplotlib]\n",
      "   - --------------------------------------  1/21 [matplotlib]\n",
      "   - --------------------------------------  1/21 [matplotlib]\n",
      "   - --------------------------------------  1/21 [matplotlib]\n",
      "   - --------------------------------------  1/21 [matplotlib]\n",
      "   - --------------------------------------  1/21 [matplotlib]\n",
      "   - --------------------------------------  1/21 [matplotlib]\n",
      "   - --------------------------------------  1/21 [matplotlib]\n",
      "   - --------------------------------------  1/21 [matplotlib]\n",
      "   - --------------------------------------  1/21 [matplotlib]\n",
      "   - --------------------------------------  1/21 [matplotlib]\n",
      "   - --------------------------------------  1/21 [matplotlib]\n",
      "   - --------------------------------------  1/21 [matplotlib]\n",
      "   - --------------------------------------  1/21 [matplotlib]\n",
      "   - --------------------------------------  1/21 [matplotlib]\n",
      "   - --------------------------------------  1/21 [matplotlib]\n",
      "   - --------------------------------------  1/21 [matplotlib]\n",
      "   - --------------------------------------  1/21 [matplotlib]\n",
      "   - --------------------------------------  1/21 [matplotlib]\n",
      "   - --------------------------------------  1/21 [matplotlib]\n",
      "   - --------------------------------------  1/21 [matplotlib]\n",
      "   - --------------------------------------  1/21 [matplotlib]\n",
      "   - --------------------------------------  1/21 [matplotlib]\n",
      "   - --------------------------------------  1/21 [matplotlib]\n",
      "   - --------------------------------------  1/21 [matplotlib]\n",
      "   - --------------------------------------  1/21 [matplotlib]\n",
      "   - --------------------------------------  1/21 [matplotlib]\n",
      "   - --------------------------------------  1/21 [matplotlib]\n",
      "   --- ------------------------------------  2/21 [jupyter-server-terminals]\n",
      "   --- ------------------------------------  2/21 [jupyter-server-terminals]\n",
      "   ----- ----------------------------------  3/21 [jsonschema-specifications]\n",
      "   ------- --------------------------------  4/21 [httpx]\n",
      "   ------- --------------------------------  4/21 [httpx]\n",
      "   ------- --------------------------------  4/21 [httpx]\n",
      "   ------- --------------------------------  4/21 [httpx]\n",
      "   ------- --------------------------------  4/21 [httpx]\n",
      "   ------- --------------------------------  4/21 [httpx]\n",
      "   ------- --------------------------------  4/21 [httpx]\n",
      "   ------- --------------------------------  4/21 [httpx]\n",
      "   --------- ------------------------------  5/21 [arrow]\n",
      "   --------- ------------------------------  5/21 [arrow]\n",
      "   --------- ------------------------------  5/21 [arrow]\n",
      "   ------------- --------------------------  7/21 [seaborn]\n",
      "   ------------- --------------------------  7/21 [seaborn]\n",
      "   ------------- --------------------------  7/21 [seaborn]\n",
      "   ------------- --------------------------  7/21 [seaborn]\n",
      "   ------------- --------------------------  7/21 [seaborn]\n",
      "   ------------- --------------------------  7/21 [seaborn]\n",
      "   ------------- --------------------------  7/21 [seaborn]\n",
      "   ------------- --------------------------  7/21 [seaborn]\n",
      "   ------------- --------------------------  7/21 [seaborn]\n",
      "   ------------- --------------------------  7/21 [seaborn]\n",
      "   ------------- --------------------------  7/21 [seaborn]\n",
      "   ------------- --------------------------  7/21 [seaborn]\n",
      "   --------------- ------------------------  8/21 [jsonschema]\n",
      "   --------------- ------------------------  8/21 [jsonschema]\n",
      "   --------------- ------------------------  8/21 [jsonschema]\n",
      "   --------------- ------------------------  8/21 [jsonschema]\n",
      "   --------------- ------------------------  8/21 [jsonschema]\n",
      "   --------------- ------------------------  8/21 [jsonschema]\n",
      "   --------------- ------------------------  8/21 [jsonschema]\n",
      "   --------------- ------------------------  8/21 [jsonschema]\n",
      "   --------------- ------------------------  8/21 [jsonschema]\n",
      "   ----------------- ----------------------  9/21 [isoduration]\n",
      "   ----------------- ----------------------  9/21 [isoduration]\n",
      "   ------------------- -------------------- 10/21 [argon2-cffi]\n",
      "   -------------------- ------------------- 11/21 [nbformat]\n",
      "   -------------------- ------------------- 11/21 [nbformat]\n",
      "   -------------------- ------------------- 11/21 [nbformat]\n",
      "   -------------------- ------------------- 11/21 [nbformat]\n",
      "   -------------------- ------------------- 11/21 [nbformat]\n",
      "   -------------------- ------------------- 11/21 [nbformat]\n",
      "   -------------------- ------------------- 11/21 [nbformat]\n",
      "   -------------------- ------------------- 11/21 [nbformat]\n",
      "   -------------------- ------------------- 11/21 [nbformat]\n",
      "   ---------------------- ----------------- 12/21 [nbclient]\n",
      "   ---------------------- ----------------- 12/21 [nbclient]\n",
      "   ---------------------- ----------------- 12/21 [nbclient]\n",
      "   ------------------------ --------------- 13/21 [jupyter-events]\n",
      "   ------------------------ --------------- 13/21 [jupyter-events]\n",
      "   ------------------------ --------------- 13/21 [jupyter-events]\n",
      "   -------------------------- ------------- 14/21 [nbconvert]\n",
      "   -------------------------- ------------- 14/21 [nbconvert]\n",
      "   -------------------------- ------------- 14/21 [nbconvert]\n",
      "   -------------------------- ------------- 14/21 [nbconvert]\n",
      "   -------------------------- ------------- 14/21 [nbconvert]\n",
      "   -------------------------- ------------- 14/21 [nbconvert]\n",
      "   -------------------------- ------------- 14/21 [nbconvert]\n",
      "   -------------------------- ------------- 14/21 [nbconvert]\n",
      "   -------------------------- ------------- 14/21 [nbconvert]\n",
      "   -------------------------- ------------- 14/21 [nbconvert]\n",
      "   -------------------------- ------------- 14/21 [nbconvert]\n",
      "   -------------------------- ------------- 14/21 [nbconvert]\n",
      "   -------------------------- ------------- 14/21 [nbconvert]\n",
      "   -------------------------- ------------- 14/21 [nbconvert]\n",
      "   -------------------------- ------------- 14/21 [nbconvert]\n",
      "   ---------------------------- ----------- 15/21 [jupyter-server]\n",
      "   ---------------------------- ----------- 15/21 [jupyter-server]\n",
      "   ---------------------------- ----------- 15/21 [jupyter-server]\n",
      "   ---------------------------- ----------- 15/21 [jupyter-server]\n",
      "   ---------------------------- ----------- 15/21 [jupyter-server]\n",
      "   ---------------------------- ----------- 15/21 [jupyter-server]\n",
      "   ---------------------------- ----------- 15/21 [jupyter-server]\n",
      "   ---------------------------- ----------- 15/21 [jupyter-server]\n",
      "   ---------------------------- ----------- 15/21 [jupyter-server]\n",
      "   ---------------------------- ----------- 15/21 [jupyter-server]\n",
      "   ---------------------------- ----------- 15/21 [jupyter-server]\n",
      "   ---------------------------- ----------- 15/21 [jupyter-server]\n",
      "   ---------------------------- ----------- 15/21 [jupyter-server]\n",
      "   ---------------------------- ----------- 15/21 [jupyter-server]\n",
      "   ---------------------------- ----------- 15/21 [jupyter-server]\n",
      "   ---------------------------- ----------- 15/21 [jupyter-server]\n",
      "   ---------------------------- ----------- 15/21 [jupyter-server]\n",
      "   ---------------------------- ----------- 15/21 [jupyter-server]\n",
      "   ---------------------------- ----------- 15/21 [jupyter-server]\n",
      "   ---------------------------- ----------- 15/21 [jupyter-server]\n",
      "   ------------------------------ --------- 16/21 [notebook-shim]\n",
      "   ------------------------------ --------- 16/21 [notebook-shim]\n",
      "   -------------------------------- ------- 17/21 [jupyterlab-server]\n",
      "   -------------------------------- ------- 17/21 [jupyterlab-server]\n",
      "   -------------------------------- ------- 17/21 [jupyterlab-server]\n",
      "   -------------------------------- ------- 17/21 [jupyterlab-server]\n",
      "   ---------------------------------- ----- 18/21 [jupyter-lsp]\n",
      "   ---------------------------------- ----- 18/21 [jupyter-lsp]\n",
      "   ---------------------------------- ----- 18/21 [jupyter-lsp]\n",
      "   ---------------------------------- ----- 18/21 [jupyter-lsp]\n",
      "   ---------------------------------- ----- 18/21 [jupyter-lsp]\n",
      "   ---------------------------------- ----- 18/21 [jupyter-lsp]\n",
      "   ---------------------------------- ----- 18/21 [jupyter-lsp]\n",
      "   ---------------------------------- ----- 18/21 [jupyter-lsp]\n",
      "   ---------------------------------- ----- 18/21 [jupyter-lsp]\n",
      "   ------------------------------------ --- 19/21 [jupyterlab]\n",
      "   ------------------------------------ --- 19/21 [jupyterlab]\n",
      "   ------------------------------------ --- 19/21 [jupyterlab]\n",
      "   ------------------------------------ --- 19/21 [jupyterlab]\n",
      "   ------------------------------------ --- 19/21 [jupyterlab]\n",
      "   ------------------------------------ --- 19/21 [jupyterlab]\n",
      "   ------------------------------------ --- 19/21 [jupyterlab]\n",
      "   ------------------------------------ --- 19/21 [jupyterlab]\n",
      "   ------------------------------------ --- 19/21 [jupyterlab]\n",
      "   ------------------------------------ --- 19/21 [jupyterlab]\n",
      "   ------------------------------------ --- 19/21 [jupyterlab]\n",
      "   ------------------------------------ --- 19/21 [jupyterlab]\n",
      "   ------------------------------------ --- 19/21 [jupyterlab]\n",
      "   ------------------------------------ --- 19/21 [jupyterlab]\n",
      "   ------------------------------------ --- 19/21 [jupyterlab]\n",
      "   ------------------------------------ --- 19/21 [jupyterlab]\n",
      "   ------------------------------------ --- 19/21 [jupyterlab]\n",
      "   ------------------------------------ --- 19/21 [jupyterlab]\n",
      "   ------------------------------------ --- 19/21 [jupyterlab]\n",
      "   ------------------------------------ --- 19/21 [jupyterlab]\n",
      "   ------------------------------------ --- 19/21 [jupyterlab]\n",
      "   ------------------------------------ --- 19/21 [jupyterlab]\n",
      "   ------------------------------------ --- 19/21 [jupyterlab]\n",
      "   ------------------------------------ --- 19/21 [jupyterlab]\n",
      "   ------------------------------------ --- 19/21 [jupyterlab]\n",
      "   ------------------------------------ --- 19/21 [jupyterlab]\n",
      "   ------------------------------------ --- 19/21 [jupyterlab]\n",
      "   ------------------------------------ --- 19/21 [jupyterlab]\n",
      "   ------------------------------------ --- 19/21 [jupyterlab]\n",
      "   ------------------------------------ --- 19/21 [jupyterlab]\n",
      "   -------------------------------------- - 20/21 [notebook]\n",
      "   -------------------------------------- - 20/21 [notebook]\n",
      "   -------------------------------------- - 20/21 [notebook]\n",
      "   -------------------------------------- - 20/21 [notebook]\n",
      "   -------------------------------------- - 20/21 [notebook]\n",
      "   -------------------------------------- - 20/21 [notebook]\n",
      "   -------------------------------------- - 20/21 [notebook]\n",
      "   -------------------------------------- - 20/21 [notebook]\n",
      "   -------------------------------------- - 20/21 [notebook]\n",
      "   -------------------------------------- - 20/21 [notebook]\n",
      "   ---------------------------------------- 21/21 [notebook]\n",
      "\n",
      "Successfully installed argon2-cffi-23.1.0 argon2-cffi-bindings-21.2.0 arrow-1.3.0 httpx-0.28.1 isoduration-20.11.0 jsonschema-4.23.0 jsonschema-specifications-2025.4.1 jupyter-events-0.12.0 jupyter-lsp-2.2.5 jupyter-server-2.16.0 jupyter-server-terminals-0.5.3 jupyterlab-4.4.2 jupyterlab-server-2.27.3 matplotlib-3.10.3 nbclient-0.10.2 nbconvert-7.16.6 nbformat-5.10.4 notebook-7.4.2 notebook-shim-0.2.4 pandas-2.2.3 seaborn-0.13.2\n"
     ]
    }
   ],
   "source": [
    "!pip install -r requirements.txt"
   ]
  },
  {
   "cell_type": "code",
   "execution_count": 221,
   "id": "68f2aaef",
   "metadata": {},
   "outputs": [],
   "source": [
    "#Importing Packages\n",
    "import numpy as np\n",
    "import pandas as pd\n",
    "import matplotlib.pyplot as plt \n",
    "import seaborn as sns\n",
    "\n",
    "# to suppress warnings \n",
    "from warnings import filterwarnings\n",
    "filterwarnings('ignore')\n",
    "\n",
    "# display all columns of the dataframe\n",
    "pd.options.display.max_columns = None\n",
    "\n",
    "# display all rows of the dataframe\n",
    "pd.options.display.max_rows = None\n",
    " \n",
    "# to display the float values upto 6 decimal places     \n",
    "pd.options.display.float_format = '{:.6f}'.format\n",
    " \n",
    "#Importing Train-Test split for validation\n",
    "from sklearn.model_selection import train_test_split\n",
    "\n",
    "# to perform Scaling\n",
    "from sklearn.preprocessing import StandardScaler\n",
    "from sklearn.preprocessing import MinMaxScaler\n",
    "\n",
    "# import various functions from sklearn\n",
    "from sklearn.metrics import classification_report\n",
    "from sklearn.metrics import confusion_matrix\n",
    "from sklearn.metrics import roc_curve\n",
    "from sklearn.metrics import roc_auc_score\n",
    "from sklearn.linear_model import LogisticRegression \n",
    "from sklearn.ensemble import AdaBoostClassifier\n",
    "from sklearn.ensemble import GradientBoostingClassifier\n",
    "from sklearn.ensemble import StackingClassifier\n",
    "from sklearn.ensemble import RandomForestClassifier\n",
    "from sklearn.neighbors import KNeighborsClassifier\n",
    "from sklearn.naive_bayes import GaussianNB\n",
    "\n",
    "from sklearn.model_selection import cross_val_score\n",
    "from sklearn.model_selection import KFold\n",
    "from sklearn.model_selection import GridSearchCV\n",
    "\n",
    "# import function to perform feature selection\n",
    "from sklearn.feature_selection import RFE\n"
   ]
  },
  {
   "cell_type": "code",
   "execution_count": 15,
   "id": "8db5db4e",
   "metadata": {},
   "outputs": [
    {
     "data": {
      "text/plain": [
       "['.git',\n",
       " '.venv',\n",
       " 'classification',\n",
       " 'heart.ipynb',\n",
       " 'heart.py',\n",
       " 'Heart_Disease_Prediction.csv',\n",
       " 'requirements.txt']"
      ]
     },
     "execution_count": 15,
     "metadata": {},
     "output_type": "execute_result"
    }
   ],
   "source": [
    "import os\n",
    "os.listdir('.')"
   ]
  },
  {
   "cell_type": "markdown",
   "id": "1f867c7f",
   "metadata": {},
   "source": [
    "Binary Classfication - Heart Disease Predicition."
   ]
  },
  {
   "cell_type": "code",
   "execution_count": 116,
   "id": "5682aab4",
   "metadata": {},
   "outputs": [],
   "source": [
    "df=pd.read_csv('Heart_Disease_Prediction.csv')"
   ]
  },
  {
   "cell_type": "code",
   "execution_count": 117,
   "id": "670f696f",
   "metadata": {},
   "outputs": [
    {
     "data": {
      "text/html": [
       "<div>\n",
       "<style scoped>\n",
       "    .dataframe tbody tr th:only-of-type {\n",
       "        vertical-align: middle;\n",
       "    }\n",
       "\n",
       "    .dataframe tbody tr th {\n",
       "        vertical-align: top;\n",
       "    }\n",
       "\n",
       "    .dataframe thead th {\n",
       "        text-align: right;\n",
       "    }\n",
       "</style>\n",
       "<table border=\"1\" class=\"dataframe\">\n",
       "  <thead>\n",
       "    <tr style=\"text-align: right;\">\n",
       "      <th></th>\n",
       "      <th>Age</th>\n",
       "      <th>Sex</th>\n",
       "      <th>Chest pain type</th>\n",
       "      <th>BP</th>\n",
       "      <th>Cholesterol</th>\n",
       "      <th>FBS over 120</th>\n",
       "      <th>EKG results</th>\n",
       "      <th>Max HR</th>\n",
       "      <th>Exercise angina</th>\n",
       "      <th>ST depression</th>\n",
       "      <th>Slope of ST</th>\n",
       "      <th>Number of vessels fluro</th>\n",
       "      <th>Thallium</th>\n",
       "      <th>Heart Disease</th>\n",
       "    </tr>\n",
       "  </thead>\n",
       "  <tbody>\n",
       "    <tr>\n",
       "      <th>0</th>\n",
       "      <td>70</td>\n",
       "      <td>1</td>\n",
       "      <td>4</td>\n",
       "      <td>130</td>\n",
       "      <td>322</td>\n",
       "      <td>0</td>\n",
       "      <td>2</td>\n",
       "      <td>109</td>\n",
       "      <td>0</td>\n",
       "      <td>2.400000</td>\n",
       "      <td>2</td>\n",
       "      <td>3</td>\n",
       "      <td>3</td>\n",
       "      <td>Presence</td>\n",
       "    </tr>\n",
       "    <tr>\n",
       "      <th>1</th>\n",
       "      <td>67</td>\n",
       "      <td>0</td>\n",
       "      <td>3</td>\n",
       "      <td>115</td>\n",
       "      <td>564</td>\n",
       "      <td>0</td>\n",
       "      <td>2</td>\n",
       "      <td>160</td>\n",
       "      <td>0</td>\n",
       "      <td>1.600000</td>\n",
       "      <td>2</td>\n",
       "      <td>0</td>\n",
       "      <td>7</td>\n",
       "      <td>Absence</td>\n",
       "    </tr>\n",
       "    <tr>\n",
       "      <th>2</th>\n",
       "      <td>57</td>\n",
       "      <td>1</td>\n",
       "      <td>2</td>\n",
       "      <td>124</td>\n",
       "      <td>261</td>\n",
       "      <td>0</td>\n",
       "      <td>0</td>\n",
       "      <td>141</td>\n",
       "      <td>0</td>\n",
       "      <td>0.300000</td>\n",
       "      <td>1</td>\n",
       "      <td>0</td>\n",
       "      <td>7</td>\n",
       "      <td>Presence</td>\n",
       "    </tr>\n",
       "    <tr>\n",
       "      <th>3</th>\n",
       "      <td>64</td>\n",
       "      <td>1</td>\n",
       "      <td>4</td>\n",
       "      <td>128</td>\n",
       "      <td>263</td>\n",
       "      <td>0</td>\n",
       "      <td>0</td>\n",
       "      <td>105</td>\n",
       "      <td>1</td>\n",
       "      <td>0.200000</td>\n",
       "      <td>2</td>\n",
       "      <td>1</td>\n",
       "      <td>7</td>\n",
       "      <td>Absence</td>\n",
       "    </tr>\n",
       "    <tr>\n",
       "      <th>4</th>\n",
       "      <td>74</td>\n",
       "      <td>0</td>\n",
       "      <td>2</td>\n",
       "      <td>120</td>\n",
       "      <td>269</td>\n",
       "      <td>0</td>\n",
       "      <td>2</td>\n",
       "      <td>121</td>\n",
       "      <td>1</td>\n",
       "      <td>0.200000</td>\n",
       "      <td>1</td>\n",
       "      <td>1</td>\n",
       "      <td>3</td>\n",
       "      <td>Absence</td>\n",
       "    </tr>\n",
       "  </tbody>\n",
       "</table>\n",
       "</div>"
      ],
      "text/plain": [
       "   Age  Sex  Chest pain type   BP  Cholesterol  FBS over 120  EKG results  \\\n",
       "0   70    1                4  130          322             0            2   \n",
       "1   67    0                3  115          564             0            2   \n",
       "2   57    1                2  124          261             0            0   \n",
       "3   64    1                4  128          263             0            0   \n",
       "4   74    0                2  120          269             0            2   \n",
       "\n",
       "   Max HR  Exercise angina  ST depression  Slope of ST  \\\n",
       "0     109                0       2.400000            2   \n",
       "1     160                0       1.600000            2   \n",
       "2     141                0       0.300000            1   \n",
       "3     105                1       0.200000            2   \n",
       "4     121                1       0.200000            1   \n",
       "\n",
       "   Number of vessels fluro  Thallium Heart Disease  \n",
       "0                        3         3      Presence  \n",
       "1                        0         7       Absence  \n",
       "2                        0         7      Presence  \n",
       "3                        1         7       Absence  \n",
       "4                        1         3       Absence  "
      ]
     },
     "execution_count": 117,
     "metadata": {},
     "output_type": "execute_result"
    }
   ],
   "source": [
    "df.head()"
   ]
  },
  {
   "cell_type": "code",
   "execution_count": 118,
   "id": "1b4f59fa",
   "metadata": {},
   "outputs": [
    {
     "data": {
      "text/plain": [
       "(270, 14)"
      ]
     },
     "execution_count": 118,
     "metadata": {},
     "output_type": "execute_result"
    }
   ],
   "source": [
    "df.shape"
   ]
  },
  {
   "cell_type": "code",
   "execution_count": 119,
   "id": "f6bd5253",
   "metadata": {},
   "outputs": [
    {
     "data": {
      "text/plain": [
       "Index(['Age', 'Sex', 'Chest pain type', 'BP', 'Cholesterol', 'FBS over 120',\n",
       "       'EKG results', 'Max HR', 'Exercise angina', 'ST depression',\n",
       "       'Slope of ST', 'Number of vessels fluro', 'Thallium', 'Heart Disease'],\n",
       "      dtype='object')"
      ]
     },
     "execution_count": 119,
     "metadata": {},
     "output_type": "execute_result"
    }
   ],
   "source": [
    "df.columns"
   ]
  },
  {
   "cell_type": "code",
   "execution_count": 120,
   "id": "dd1ccdc7",
   "metadata": {},
   "outputs": [
    {
     "data": {
      "text/plain": [
       "Age                          int64\n",
       "Sex                          int64\n",
       "Chest pain type              int64\n",
       "BP                           int64\n",
       "Cholesterol                  int64\n",
       "FBS over 120                 int64\n",
       "EKG results                  int64\n",
       "Max HR                       int64\n",
       "Exercise angina              int64\n",
       "ST depression              float64\n",
       "Slope of ST                  int64\n",
       "Number of vessels fluro      int64\n",
       "Thallium                     int64\n",
       "Heart Disease               object\n",
       "dtype: object"
      ]
     },
     "execution_count": 120,
     "metadata": {},
     "output_type": "execute_result"
    }
   ],
   "source": [
    "df.dtypes"
   ]
  },
  {
   "cell_type": "code",
   "execution_count": 121,
   "id": "e34e0373",
   "metadata": {},
   "outputs": [
    {
     "data": {
      "text/plain": [
       "Thallium\n",
       "3    152\n",
       "7    104\n",
       "6     14\n",
       "Name: count, dtype: int64"
      ]
     },
     "execution_count": 121,
     "metadata": {},
     "output_type": "execute_result"
    }
   ],
   "source": [
    "df['FBS over 120'].value_counts()\n",
    "df['EKG results'].value_counts()\n",
    "df['Exercise angina'].value_counts()\n",
    "df['Slope of ST'].value_counts()\n",
    "df['Number of vessels fluro'].value_counts()\n",
    "df['Thallium'].value_counts()"
   ]
  },
  {
   "cell_type": "code",
   "execution_count": 122,
   "id": "4e42f055",
   "metadata": {},
   "outputs": [],
   "source": [
    "#Changing the data types of the columns\n",
    "\n",
    "df['Sex']=df['Sex'].astype('category')\n",
    "df['Chest pain type']=df['Chest pain type'].astype('category')\n",
    "df['FBS over 120']=df['FBS over 120'].astype('category')\n",
    "df['EKG results']=df['EKG results'].astype('category')\n",
    "df['Exercise angina']=df['Exercise angina'].astype('category')\n",
    "df['Slope of ST']=df['Slope of ST'].astype('category')\n",
    "df['Number of vessels fluro']=df['Number of vessels fluro'].astype('category')\n",
    "df['Thallium']=df['Thallium'].astype('category')\n",
    "df['Heart Disease']=df['Heart Disease'].astype('category')\n"
   ]
  },
  {
   "cell_type": "markdown",
   "id": "08b58267",
   "metadata": {},
   "source": [
    "Sex as it is a categorical variable.\n",
    "Chest pain type as it is a categorical variable.\n",
    "FBS over 120 as it is a categorical variable.\n",
    "EKG results as it is a categorical variable.\n",
    "Exercise angina as it is a categorical variable.\n",
    "Slope of ST as it is a categorical variable.\n",
    "Number of vessels fluro as it is a categorical variable.\n",
    "Thallium as it is a categorical variable."
   ]
  },
  {
   "cell_type": "markdown",
   "id": "5b3bccd4",
   "metadata": {},
   "source": [
    "No Null Values\n"
   ]
  },
  {
   "cell_type": "code",
   "execution_count": 123,
   "id": "04d1acbd",
   "metadata": {},
   "outputs": [
    {
     "data": {
      "text/plain": [
       "Age                        0\n",
       "Sex                        0\n",
       "Chest pain type            0\n",
       "BP                         0\n",
       "Cholesterol                0\n",
       "FBS over 120               0\n",
       "EKG results                0\n",
       "Max HR                     0\n",
       "Exercise angina            0\n",
       "ST depression              0\n",
       "Slope of ST                0\n",
       "Number of vessels fluro    0\n",
       "Thallium                   0\n",
       "Heart Disease              0\n",
       "dtype: int64"
      ]
     },
     "execution_count": 123,
     "metadata": {},
     "output_type": "execute_result"
    }
   ],
   "source": [
    "# Checking for null values\n",
    "df.isnull().sum()"
   ]
  },
  {
   "cell_type": "markdown",
   "id": "82b2336b",
   "metadata": {},
   "source": [
    "Stanadard Deviation"
   ]
  },
  {
   "cell_type": "code",
   "execution_count": 124,
   "id": "0150424d",
   "metadata": {},
   "outputs": [
    {
     "data": {
      "text/plain": [
       "Age            9.109067\n",
       "BP            17.861608\n",
       "Cholesterol   51.686237\n",
       "Max HR        23.165717\n",
       "dtype: float64"
      ]
     },
     "execution_count": 124,
     "metadata": {},
     "output_type": "execute_result"
    }
   ],
   "source": [
    "#Checking the Standard Deviation of the columns\n",
    "df.select_dtypes(include='int').std()"
   ]
  },
  {
   "cell_type": "markdown",
   "id": "0cef1ac3",
   "metadata": {},
   "source": [
    "No Features with low Stanadard Deviation.\n"
   ]
  },
  {
   "cell_type": "markdown",
   "id": "f8ebf4e4",
   "metadata": {},
   "source": [
    "Numerical Columns Visulization"
   ]
  },
  {
   "cell_type": "code",
   "execution_count": 127,
   "id": "8f5cdfd0",
   "metadata": {},
   "outputs": [
    {
     "data": {
      "image/png": "[encoded data removed]",
      "text/plain": [
       "<Figure size 2000x2000 with 4 Axes>"
      ]
     },
     "metadata": {},
     "output_type": "display_data"
    }
   ],
   "source": [
    "#Visualizing the columns\n",
    "Cat_columns=df.select_dtypes(include='category').columns\n",
    "Num_columns=df.select_dtypes(include='int').columns\n",
    "#Visualizing the numerical columns\n",
    "plt.figure(figsize=(20, 20))        \n",
    "for i in range(len(Num_columns)):\n",
    "    plt.subplot(2, 2, i+1)\n",
    "    sns.histplot(x=Num_columns[i], data=df, bins=20)\n",
    "    plt.title(Num_columns[i])\n",
    "    plt.xticks(rotation=90)\n",
    "plt.tight_layout()\n",
    "plt.show()"
   ]
  },
  {
   "cell_type": "markdown",
   "id": "26ff1758",
   "metadata": {},
   "source": [
    "Categorical Variables Visualization"
   ]
  },
  {
   "cell_type": "code",
   "execution_count": 128,
   "id": "fb1488f1",
   "metadata": {},
   "outputs": [
    {
     "data": {
      "image/png": "[encoded data removed]",
      "text/plain": [
       "<Figure size 2000x2000 with 9 Axes>"
      ]
     },
     "metadata": {},
     "output_type": "display_data"
    }
   ],
   "source": [
    "#Visualizing the categorical columns\n",
    "plt.figure(figsize=(20, 20))    \n",
    "for i in range(len(Cat_columns)):\n",
    "    plt.subplot(4, 3, i+1)\n",
    "    sns.countplot(x=Cat_columns[i], data=df)\n",
    "    plt.title(Cat_columns[i])\n",
    "    plt.xticks(rotation=90)\n",
    "plt.tight_layout()\n",
    "plt.show() "
   ]
  },
  {
   "cell_type": "markdown",
   "id": "a1c32198",
   "metadata": {},
   "source": [
    "Outlier Analysis"
   ]
  },
  {
   "cell_type": "code",
   "execution_count": 129,
   "id": "9b04116d",
   "metadata": {},
   "outputs": [
    {
     "data": {
      "text/plain": [
       "Index(['Age', 'BP', 'Cholesterol', 'Max HR'], dtype='object')"
      ]
     },
     "execution_count": 129,
     "metadata": {},
     "output_type": "execute_result"
    }
   ],
   "source": [
    "Num_columns"
   ]
  },
  {
   "cell_type": "code",
   "execution_count": 130,
   "id": "225b4e69",
   "metadata": {},
   "outputs": [
    {
     "name": "stdout",
     "output_type": "stream",
     "text": [
      "Skewnwess of Age is: -0.16361522733654557\n",
      "Skewnwess of BP is: 0.7226180070438306\n",
      "Skewnwess of Cholesterol is: 1.1837208885656836\n",
      "Skewnwess of Max HR is: -0.5277366828794363\n"
     ]
    }
   ],
   "source": [
    "for i in Num_columns:\n",
    "    print('Skewnwess of', i, 'is:', df[i].skew())"
   ]
  },
  {
   "cell_type": "code",
   "execution_count": 131,
   "id": "733d0c58",
   "metadata": {},
   "outputs": [
    {
     "data": {
      "text/plain": [
       "count   270.000000\n",
       "mean     54.433333\n",
       "std       9.109067\n",
       "min      29.000000\n",
       "25%      48.000000\n",
       "50%      55.000000\n",
       "75%      61.000000\n",
       "max      77.000000\n",
       "Name: Age, dtype: float64"
      ]
     },
     "execution_count": 131,
     "metadata": {},
     "output_type": "execute_result"
    }
   ],
   "source": [
    "df['Age'].describe()"
   ]
  },
  {
   "cell_type": "markdown",
   "id": "7d92b3b9",
   "metadata": {},
   "source": [
    "Since the min and max values of age columns are possible it doesn't have any outliers.\n"
   ]
  },
  {
   "cell_type": "code",
   "execution_count": 132,
   "id": "6aa1d6c2",
   "metadata": {},
   "outputs": [
    {
     "name": "stdout",
     "output_type": "stream",
     "text": [
      "count   270.000000\n",
      "mean    131.344444\n",
      "std      17.861608\n",
      "min      94.000000\n",
      "25%     120.000000\n",
      "50%     130.000000\n",
      "75%     140.000000\n",
      "max     200.000000\n",
      "Name: BP, dtype: float64\n"
     ]
    },
    {
     "data": {
      "text/plain": [
       "<Axes: xlabel='BP', ylabel='Density'>"
      ]
     },
     "execution_count": 132,
     "metadata": {},
     "output_type": "execute_result"
    },
    {
     "data": {
      "image/png": "[encoded data removed]",
      "text/plain": [
       "<Figure size 640x480 with 1 Axes>"
      ]
     },
     "metadata": {},
     "output_type": "display_data"
    }
   ],
   "source": [
    "print(df['BP'].describe())\n",
    "sns.kdeplot(df['BP'])"
   ]
  },
  {
   "cell_type": "markdown",
   "id": "cbbded4f",
   "metadata": {},
   "source": [
    "def bp_category(bp):\n",
    "    if bp < 120:\n",
    "        return 'Normal'\n",
    "    elif bp < 130:\n",
    "        return 'Elevated'\n",
    "    elif bp < 140:\n",
    "        return 'Hypertension Stage 1'\n",
    "    elif bp < 180:\n",
    "        return 'Hypertension Stage 2'\n",
    "    else:\n",
    "        return 'Hypertensive Crisis'\n",
    "\n",
    "df['BP_Category'] = df['BP'].apply(bp_category)"
   ]
  },
  {
   "cell_type": "markdown",
   "id": "aa7b5679",
   "metadata": {},
   "source": [
    "The values of the BP column with a max value of 200 is possble but very rare. So thier can perform the interquartile range or we can further classify it as above mentioned format as categorical feature."
   ]
  },
  {
   "cell_type": "code",
   "execution_count": 133,
   "id": "bc8eef68",
   "metadata": {},
   "outputs": [
    {
     "name": "stdout",
     "output_type": "stream",
     "text": [
      "count   270.000000\n",
      "mean    249.659259\n",
      "std      51.686237\n",
      "min     126.000000\n",
      "25%     213.000000\n",
      "50%     245.000000\n",
      "75%     280.000000\n",
      "max     564.000000\n",
      "Name: Cholesterol, dtype: float64\n"
     ]
    },
    {
     "data": {
      "text/plain": [
       "<Axes: xlabel='Cholesterol', ylabel='Density'>"
      ]
     },
     "execution_count": 133,
     "metadata": {},
     "output_type": "execute_result"
    },
    {
     "data": {
      "image/png": "[encoded data removed]",
      "text/plain": [
       "<Figure size 640x480 with 1 Axes>"
      ]
     },
     "metadata": {},
     "output_type": "display_data"
    }
   ],
   "source": [
    "print(df['Cholesterol'].describe())\n",
    "sns.kdeplot(df['Cholesterol'])"
   ]
  },
  {
   "cell_type": "code",
   "execution_count": 134,
   "id": "d6ba2c98",
   "metadata": {},
   "outputs": [
    {
     "data": {
      "text/plain": [
       "count   270.000000\n",
       "mean    149.677778\n",
       "std      23.165717\n",
       "min      71.000000\n",
       "25%     133.000000\n",
       "50%     153.500000\n",
       "75%     166.000000\n",
       "max     202.000000\n",
       "Name: Max HR, dtype: float64"
      ]
     },
     "execution_count": 134,
     "metadata": {},
     "output_type": "execute_result"
    }
   ],
   "source": [
    "df['Max HR'].describe()"
   ]
  },
  {
   "cell_type": "markdown",
   "id": "de3d51d6",
   "metadata": {},
   "source": [
    "Since Age feature doesn't require any outlier analysis,changing the type of variable for instance to skip the outlier analysis."
   ]
  },
  {
   "cell_type": "code",
   "execution_count": 135,
   "id": "572bda54",
   "metadata": {},
   "outputs": [],
   "source": [
    "df['Age']=df['Age'].astype('category')"
   ]
  },
  {
   "cell_type": "code",
   "execution_count": 114,
   "id": "3c0b2521",
   "metadata": {},
   "outputs": [],
   "source": [
    "df_new = df[\n",
    "    ~((df.select_dtypes(include='number') < (df.select_dtypes(include='number').quantile(0.25) - 1.5 * (df.select_dtypes(include='number').quantile(0.75) - df.select_dtypes(include='number').quantile(0.25)))) |\n",
    "      (df.select_dtypes(include='number') > (df.select_dtypes(include='number').quantile(0.75) + 1.5 * (df.select_dtypes(include='number').quantile(0.75) - df.select_dtypes(include='number').quantile(0.25))))\n",
    "    ).any(axis=1)\n",
    "]"
   ]
  },
  {
   "cell_type": "markdown",
   "id": "b56e5ade",
   "metadata": {},
   "source": [
    "Chaning the Age Feature back to its original type."
   ]
  },
  {
   "cell_type": "code",
   "execution_count": 141,
   "id": "235b9991",
   "metadata": {},
   "outputs": [],
   "source": [
    "df['Age']=df['Age'].astype('int')"
   ]
  },
  {
   "cell_type": "markdown",
   "id": "022b59af",
   "metadata": {},
   "source": [
    "We can see the decrease in the shape compared to original shape.There is 6% loss in the data."
   ]
  },
  {
   "cell_type": "code",
   "execution_count": 140,
   "id": "6bb56377",
   "metadata": {},
   "outputs": [
    {
     "data": {
      "text/plain": [
       "6.666666666666667"
      ]
     },
     "execution_count": 140,
     "metadata": {},
     "output_type": "execute_result"
    }
   ],
   "source": [
    "(270-252)/270*100"
   ]
  },
  {
   "cell_type": "code",
   "execution_count": 137,
   "id": "3e16202b",
   "metadata": {},
   "outputs": [
    {
     "data": {
      "text/plain": [
       "((252, 14), (270, 14))"
      ]
     },
     "execution_count": 137,
     "metadata": {},
     "output_type": "execute_result"
    }
   ],
   "source": [
    "df_new.shape,df.shape"
   ]
  },
  {
   "cell_type": "markdown",
   "id": "a4999b82",
   "metadata": {},
   "source": [
    "One Hot Encoding\n"
   ]
  },
  {
   "cell_type": "code",
   "execution_count": 143,
   "id": "66278b14",
   "metadata": {},
   "outputs": [],
   "source": [
    "Cat_columns=Cat_columns.drop('Heart Disease')"
   ]
  },
  {
   "cell_type": "markdown",
   "id": "1bd069f1",
   "metadata": {},
   "source": [
    "Since the target variable has to be separated."
   ]
  },
  {
   "cell_type": "code",
   "execution_count": 145,
   "id": "b653b0ea",
   "metadata": {},
   "outputs": [
    {
     "data": {
      "text/plain": [
       "Index(['Age', 'BP', 'Cholesterol', 'Max HR', 'Sex_1', 'Chest pain type_2',\n",
       "       'Chest pain type_3', 'Chest pain type_4', 'FBS over 120_1',\n",
       "       'EKG results_1', 'EKG results_2', 'Exercise angina_1', 'Slope of ST_2',\n",
       "       'Slope of ST_3', 'Number of vessels fluro_1',\n",
       "       'Number of vessels fluro_2', 'Number of vessels fluro_3', 'Thallium_6',\n",
       "       'Thallium_7'],\n",
       "      dtype='object')"
      ]
     },
     "execution_count": 145,
     "metadata": {},
     "output_type": "execute_result"
    }
   ],
   "source": [
    "Encoded=pd.get_dummies(df_new[Cat_columns], drop_first=True)\n",
    "df_encoded=pd.concat([df_new[Num_columns], Encoded], axis=1)\n",
    "df_encoded.head()\n",
    "df_encoded.columns"
   ]
  },
  {
   "cell_type": "code",
   "execution_count": 146,
   "id": "6de5e997",
   "metadata": {},
   "outputs": [],
   "source": [
    "df_new['Heart Disease']=df_new['Heart Disease'].replace({'Presence':1, 'Absence':0})\n",
    "df_encoded['Heart Disease']=df_new['Heart Disease']"
   ]
  },
  {
   "cell_type": "code",
   "execution_count": 147,
   "id": "b3737b1f",
   "metadata": {},
   "outputs": [
    {
     "name": "stdout",
     "output_type": "stream",
     "text": [
      "(201, 19) (201,)\n",
      "(51, 19) (51,)\n"
     ]
    }
   ],
   "source": [
    "#Splitting the data into train and test\n",
    "X = df_encoded.drop('Heart Disease', axis=1)\n",
    "y = df_encoded['Heart Disease']\n",
    "X_train, X_test, y_train, y_test = train_test_split(X, y, test_size=0.2, random_state=42)\n",
    "print(X_train.shape, y_train.shape)\n",
    "print(X_test.shape, y_test.shape)   "
   ]
  },
  {
   "cell_type": "markdown",
   "id": "5426b8d6",
   "metadata": {},
   "source": [
    "Scaling and Transformation of data\n"
   ]
  },
  {
   "cell_type": "code",
   "execution_count": 191,
   "id": "90eeea10",
   "metadata": {},
   "outputs": [],
   "source": [
    "#Scaling the data\n",
    "scaler=StandardScaler()\n",
    "X_train_scaled = scaler.fit_transform(X_train)\n",
    "Xtrain=pd.DataFrame(X_train_scaled, columns=X_train.columns)\n",
    "X_test_scaled = scaler.transform(X_test)\n",
    "Xtest=pd.DataFrame(X_test_scaled, columns=X_test.columns)"
   ]
  },
  {
   "cell_type": "markdown",
   "id": "9c2967eb",
   "metadata": {},
   "source": [
    "Creating a generalized funtion to calculate the perfomenace metrics values of the test set."
   ]
  },
  {
   "cell_type": "code",
   "execution_count": 183,
   "id": "538d78ec",
   "metadata": {},
   "outputs": [],
   "source": [
    "def get_test_score(model,test_data):\n",
    "    test_pred=model.predict(test_data)\n",
    "    return classification_report(y_test,test_pred)\n"
   ]
  },
  {
   "cell_type": "markdown",
   "id": "111c2f0b",
   "metadata": {},
   "source": [
    "Creating a function to plot the Confusion Matrix."
   ]
  },
  {
   "cell_type": "code",
   "execution_count": 184,
   "id": "469f2b02",
   "metadata": {},
   "outputs": [],
   "source": [
    "def plot_confusion_matrix(model,test_data):\n",
    "    plt.figure(figsize=(8,6))\n",
    "    test_pred=model.predict(test_data)\n",
    "    cm=confusion_matrix(y_test,test_pred)\n",
    "    conf_matrix = pd.DataFrame(data = cm,columns = ['Predicted:0','Predicted:1'], index = ['Actual:0','Actual:1'])\n",
    "    sns.heatmap(conf_matrix,annot=True,fmt='d',cmap='Blues')\n",
    "    plt.title('Confusion Matrix')\n",
    "    plt.xticks(fontsize=10)\n",
    "    plt.yticks(fontsize=10)\n",
    "    plt.show()\n",
    "\n",
    "\n",
    "\n"
   ]
  },
  {
   "cell_type": "markdown",
   "id": "13b8cf99",
   "metadata": {},
   "source": [
    "Creating a function to plot the ROC_AUC for all the models"
   ]
  },
  {
   "cell_type": "code",
   "execution_count": 185,
   "id": "5cabb14b",
   "metadata": {},
   "outputs": [],
   "source": [
    "def plot_roc_auc(model,test_data):\n",
    "    plt.figure(figsize=(8,6))\n",
    "    test_pred_proba=model.predict_proba(test_data)[:,1]\n",
    "    fpr,tpr,threshold=roc_curve(y_test,test_pred_proba)\n",
    "    plt.plot(fpr,tpr,label='ROC curve')\n",
    "    plt.xlim([0,1])\n",
    "    plt.ylim([0,1])\n",
    "    plt.plot([0,1],[0,1],'r--')\n",
    "    plt.xlabel('False Positive Rate')\n",
    "    plt.ylabel('True Positive Rate')\n",
    "    plt.title('ROC curve')\n",
    "    # add the AUC score to the plot\n",
    "    # 'x' and 'y' gives position of the text\n",
    "    # 's' is the text \n",
    "    # use round() to round-off the AUC score upto 4 digits\n",
    "    plt.text(x = 0.02, y = 0.9, s = ('AUC Score:',round(roc_auc_score(y_test, test_pred_proba),4)))\n",
    "\n",
    "    # plot the grid\n",
    "    \n",
    "    \n"
   ]
  },
  {
   "cell_type": "code",
   "execution_count": 192,
   "id": "6c516a6a",
   "metadata": {},
   "outputs": [
    {
     "data": {
      "text/html": [
       "<style>#sk-container-id-6 {\n",
       "  /* Definition of color scheme common for light and dark mode */\n",
       "  --sklearn-color-text: #000;\n",
       "  --sklearn-color-text-muted: #666;\n",
       "  --sklearn-color-line: gray;\n",
       "  /* Definition of color scheme for unfitted estimators */\n",
       "  --sklearn-color-unfitted-level-0: #fff5e6;\n",
       "  --sklearn-color-unfitted-level-1: #f6e4d2;\n",
       "  --sklearn-color-unfitted-level-2: #ffe0b3;\n",
       "  --sklearn-color-unfitted-level-3: chocolate;\n",
       "  /* Definition of color scheme for fitted estimators */\n",
       "  --sklearn-color-fitted-level-0: #f0f8ff;\n",
       "  --sklearn-color-fitted-level-1: #d4ebff;\n",
       "  --sklearn-color-fitted-level-2: #b3dbfd;\n",
       "  --sklearn-color-fitted-level-3: cornflowerblue;\n",
       "\n",
       "  /* Specific color for light theme */\n",
       "  --sklearn-color-text-on-default-background: var(--sg-text-color, var(--theme-code-foreground, var(--jp-content-font-color1, black)));\n",
       "  --sklearn-color-background: var(--sg-background-color, var(--theme-background, var(--jp-layout-color0, white)));\n",
       "  --sklearn-color-border-box: var(--sg-text-color, var(--theme-code-foreground, var(--jp-content-font-color1, black)));\n",
       "  --sklearn-color-icon: #696969;\n",
       "\n",
       "  @media (prefers-color-scheme: dark) {\n",
       "    /* Redefinition of color scheme for dark theme */\n",
       "    --sklearn-color-text-on-default-background: var(--sg-text-color, var(--theme-code-foreground, var(--jp-content-font-color1, white)));\n",
       "    --sklearn-color-background: var(--sg-background-color, var(--theme-background, var(--jp-layout-color0, #111)));\n",
       "    --sklearn-color-border-box: var(--sg-text-color, var(--theme-code-foreground, var(--jp-content-font-color1, white)));\n",
       "    --sklearn-color-icon: #878787;\n",
       "  }\n",
       "}\n",
       "\n",
       "#sk-container-id-6 {\n",
       "  color: var(--sklearn-color-text);\n",
       "}\n",
       "\n",
       "#sk-container-id-6 pre {\n",
       "  padding: 0;\n",
       "}\n",
       "\n",
       "#sk-container-id-6 input.sk-hidden--visually {\n",
       "  border: 0;\n",
       "  clip: rect(1px 1px 1px 1px);\n",
       "  clip: rect(1px, 1px, 1px, 1px);\n",
       "  height: 1px;\n",
       "  margin: -1px;\n",
       "  overflow: hidden;\n",
       "  padding: 0;\n",
       "  position: absolute;\n",
       "  width: 1px;\n",
       "}\n",
       "\n",
       "#sk-container-id-6 div.sk-dashed-wrapped {\n",
       "  border: 1px dashed var(--sklearn-color-line);\n",
       "  margin: 0 0.4em 0.5em 0.4em;\n",
       "  box-sizing: border-box;\n",
       "  padding-bottom: 0.4em;\n",
       "  background-color: var(--sklearn-color-background);\n",
       "}\n",
       "\n",
       "#sk-container-id-6 div.sk-container {\n",
       "  /* jupyter's `normalize.less` sets `[hidden] { display: none; }`\n",
       "     but bootstrap.min.css set `[hidden] { display: none !important; }`\n",
       "     so we also need the `!important` here to be able to override the\n",
       "     default hidden behavior on the sphinx rendered scikit-learn.org.\n",
       "     See: https://github.com/scikit-learn/scikit-learn/issues/21755 */\n",
       "  display: inline-block !important;\n",
       "  position: relative;\n",
       "}\n",
       "\n",
       "#sk-container-id-6 div.sk-text-repr-fallback {\n",
       "  display: none;\n",
       "}\n",
       "\n",
       "div.sk-parallel-item,\n",
       "div.sk-serial,\n",
       "div.sk-item {\n",
       "  /* draw centered vertical line to link estimators */\n",
       "  background-image: linear-gradient(var(--sklearn-color-text-on-default-background), var(--sklearn-color-text-on-default-background));\n",
       "  background-size: 2px 100%;\n",
       "  background-repeat: no-repeat;\n",
       "  background-position: center center;\n",
       "}\n",
       "\n",
       "/* Parallel-specific style estimator block */\n",
       "\n",
       "#sk-container-id-6 div.sk-parallel-item::after {\n",
       "  content: \"\";\n",
       "  width: 100%;\n",
       "  border-bottom: 2px solid var(--sklearn-color-text-on-default-background);\n",
       "  flex-grow: 1;\n",
       "}\n",
       "\n",
       "#sk-container-id-6 div.sk-parallel {\n",
       "  display: flex;\n",
       "  align-items: stretch;\n",
       "  justify-content: center;\n",
       "  background-color: var(--sklearn-color-background);\n",
       "  position: relative;\n",
       "}\n",
       "\n",
       "#sk-container-id-6 div.sk-parallel-item {\n",
       "  display: flex;\n",
       "  flex-direction: column;\n",
       "}\n",
       "\n",
       "#sk-container-id-6 div.sk-parallel-item:first-child::after {\n",
       "  align-self: flex-end;\n",
       "  width: 50%;\n",
       "}\n",
       "\n",
       "#sk-container-id-6 div.sk-parallel-item:last-child::after {\n",
       "  align-self: flex-start;\n",
       "  width: 50%;\n",
       "}\n",
       "\n",
       "#sk-container-id-6 div.sk-parallel-item:only-child::after {\n",
       "  width: 0;\n",
       "}\n",
       "\n",
       "/* Serial-specific style estimator block */\n",
       "\n",
       "#sk-container-id-6 div.sk-serial {\n",
       "  display: flex;\n",
       "  flex-direction: column;\n",
       "  align-items: center;\n",
       "  background-color: var(--sklearn-color-background);\n",
       "  padding-right: 1em;\n",
       "  padding-left: 1em;\n",
       "}\n",
       "\n",
       "\n",
       "/* Toggleable style: style used for estimator/Pipeline/ColumnTransformer box that is\n",
       "clickable and can be expanded/collapsed.\n",
       "- Pipeline and ColumnTransformer use this feature and define the default style\n",
       "- Estimators will overwrite some part of the style using the `sk-estimator` class\n",
       "*/\n",
       "\n",
       "/* Pipeline and ColumnTransformer style (default) */\n",
       "\n",
       "#sk-container-id-6 div.sk-toggleable {\n",
       "  /* Default theme specific background. It is overwritten whether we have a\n",
       "  specific estimator or a Pipeline/ColumnTransformer */\n",
       "  background-color: var(--sklearn-color-background);\n",
       "}\n",
       "\n",
       "/* Toggleable label */\n",
       "#sk-container-id-6 label.sk-toggleable__label {\n",
       "  cursor: pointer;\n",
       "  display: flex;\n",
       "  width: 100%;\n",
       "  margin-bottom: 0;\n",
       "  padding: 0.5em;\n",
       "  box-sizing: border-box;\n",
       "  text-align: center;\n",
       "  align-items: start;\n",
       "  justify-content: space-between;\n",
       "  gap: 0.5em;\n",
       "}\n",
       "\n",
       "#sk-container-id-6 label.sk-toggleable__label .caption {\n",
       "  font-size: 0.6rem;\n",
       "  font-weight: lighter;\n",
       "  color: var(--sklearn-color-text-muted);\n",
       "}\n",
       "\n",
       "#sk-container-id-6 label.sk-toggleable__label-arrow:before {\n",
       "  /* Arrow on the left of the label */\n",
       "  content: \"▸\";\n",
       "  float: left;\n",
       "  margin-right: 0.25em;\n",
       "  color: var(--sklearn-color-icon);\n",
       "}\n",
       "\n",
       "#sk-container-id-6 label.sk-toggleable__label-arrow:hover:before {\n",
       "  color: var(--sklearn-color-text);\n",
       "}\n",
       "\n",
       "/* Toggleable content - dropdown */\n",
       "\n",
       "#sk-container-id-6 div.sk-toggleable__content {\n",
       "  max-height: 0;\n",
       "  max-width: 0;\n",
       "  overflow: hidden;\n",
       "  text-align: left;\n",
       "  /* unfitted */\n",
       "  background-color: var(--sklearn-color-unfitted-level-0);\n",
       "}\n",
       "\n",
       "#sk-container-id-6 div.sk-toggleable__content.fitted {\n",
       "  /* fitted */\n",
       "  background-color: var(--sklearn-color-fitted-level-0);\n",
       "}\n",
       "\n",
       "#sk-container-id-6 div.sk-toggleable__content pre {\n",
       "  margin: 0.2em;\n",
       "  border-radius: 0.25em;\n",
       "  color: var(--sklearn-color-text);\n",
       "  /* unfitted */\n",
       "  background-color: var(--sklearn-color-unfitted-level-0);\n",
       "}\n",
       "\n",
       "#sk-container-id-6 div.sk-toggleable__content.fitted pre {\n",
       "  /* unfitted */\n",
       "  background-color: var(--sklearn-color-fitted-level-0);\n",
       "}\n",
       "\n",
       "#sk-container-id-6 input.sk-toggleable__control:checked~div.sk-toggleable__content {\n",
       "  /* Expand drop-down */\n",
       "  max-height: 200px;\n",
       "  max-width: 100%;\n",
       "  overflow: auto;\n",
       "}\n",
       "\n",
       "#sk-container-id-6 input.sk-toggleable__control:checked~label.sk-toggleable__label-arrow:before {\n",
       "  content: \"▾\";\n",
       "}\n",
       "\n",
       "/* Pipeline/ColumnTransformer-specific style */\n",
       "\n",
       "#sk-container-id-6 div.sk-label input.sk-toggleable__control:checked~label.sk-toggleable__label {\n",
       "  color: var(--sklearn-color-text);\n",
       "  background-color: var(--sklearn-color-unfitted-level-2);\n",
       "}\n",
       "\n",
       "#sk-container-id-6 div.sk-label.fitted input.sk-toggleable__control:checked~label.sk-toggleable__label {\n",
       "  background-color: var(--sklearn-color-fitted-level-2);\n",
       "}\n",
       "\n",
       "/* Estimator-specific style */\n",
       "\n",
       "/* Colorize estimator box */\n",
       "#sk-container-id-6 div.sk-estimator input.sk-toggleable__control:checked~label.sk-toggleable__label {\n",
       "  /* unfitted */\n",
       "  background-color: var(--sklearn-color-unfitted-level-2);\n",
       "}\n",
       "\n",
       "#sk-container-id-6 div.sk-estimator.fitted input.sk-toggleable__control:checked~label.sk-toggleable__label {\n",
       "  /* fitted */\n",
       "  background-color: var(--sklearn-color-fitted-level-2);\n",
       "}\n",
       "\n",
       "#sk-container-id-6 div.sk-label label.sk-toggleable__label,\n",
       "#sk-container-id-6 div.sk-label label {\n",
       "  /* The background is the default theme color */\n",
       "  color: var(--sklearn-color-text-on-default-background);\n",
       "}\n",
       "\n",
       "/* On hover, darken the color of the background */\n",
       "#sk-container-id-6 div.sk-label:hover label.sk-toggleable__label {\n",
       "  color: var(--sklearn-color-text);\n",
       "  background-color: var(--sklearn-color-unfitted-level-2);\n",
       "}\n",
       "\n",
       "/* Label box, darken color on hover, fitted */\n",
       "#sk-container-id-6 div.sk-label.fitted:hover label.sk-toggleable__label.fitted {\n",
       "  color: var(--sklearn-color-text);\n",
       "  background-color: var(--sklearn-color-fitted-level-2);\n",
       "}\n",
       "\n",
       "/* Estimator label */\n",
       "\n",
       "#sk-container-id-6 div.sk-label label {\n",
       "  font-family: monospace;\n",
       "  font-weight: bold;\n",
       "  display: inline-block;\n",
       "  line-height: 1.2em;\n",
       "}\n",
       "\n",
       "#sk-container-id-6 div.sk-label-container {\n",
       "  text-align: center;\n",
       "}\n",
       "\n",
       "/* Estimator-specific */\n",
       "#sk-container-id-6 div.sk-estimator {\n",
       "  font-family: monospace;\n",
       "  border: 1px dotted var(--sklearn-color-border-box);\n",
       "  border-radius: 0.25em;\n",
       "  box-sizing: border-box;\n",
       "  margin-bottom: 0.5em;\n",
       "  /* unfitted */\n",
       "  background-color: var(--sklearn-color-unfitted-level-0);\n",
       "}\n",
       "\n",
       "#sk-container-id-6 div.sk-estimator.fitted {\n",
       "  /* fitted */\n",
       "  background-color: var(--sklearn-color-fitted-level-0);\n",
       "}\n",
       "\n",
       "/* on hover */\n",
       "#sk-container-id-6 div.sk-estimator:hover {\n",
       "  /* unfitted */\n",
       "  background-color: var(--sklearn-color-unfitted-level-2);\n",
       "}\n",
       "\n",
       "#sk-container-id-6 div.sk-estimator.fitted:hover {\n",
       "  /* fitted */\n",
       "  background-color: var(--sklearn-color-fitted-level-2);\n",
       "}\n",
       "\n",
       "/* Specification for estimator info (e.g. \"i\" and \"?\") */\n",
       "\n",
       "/* Common style for \"i\" and \"?\" */\n",
       "\n",
       ".sk-estimator-doc-link,\n",
       "a:link.sk-estimator-doc-link,\n",
       "a:visited.sk-estimator-doc-link {\n",
       "  float: right;\n",
       "  font-size: smaller;\n",
       "  line-height: 1em;\n",
       "  font-family: monospace;\n",
       "  background-color: var(--sklearn-color-background);\n",
       "  border-radius: 1em;\n",
       "  height: 1em;\n",
       "  width: 1em;\n",
       "  text-decoration: none !important;\n",
       "  margin-left: 0.5em;\n",
       "  text-align: center;\n",
       "  /* unfitted */\n",
       "  border: var(--sklearn-color-unfitted-level-1) 1pt solid;\n",
       "  color: var(--sklearn-color-unfitted-level-1);\n",
       "}\n",
       "\n",
       ".sk-estimator-doc-link.fitted,\n",
       "a:link.sk-estimator-doc-link.fitted,\n",
       "a:visited.sk-estimator-doc-link.fitted {\n",
       "  /* fitted */\n",
       "  border: var(--sklearn-color-fitted-level-1) 1pt solid;\n",
       "  color: var(--sklearn-color-fitted-level-1);\n",
       "}\n",
       "\n",
       "/* On hover */\n",
       "div.sk-estimator:hover .sk-estimator-doc-link:hover,\n",
       ".sk-estimator-doc-link:hover,\n",
       "div.sk-label-container:hover .sk-estimator-doc-link:hover,\n",
       ".sk-estimator-doc-link:hover {\n",
       "  /* unfitted */\n",
       "  background-color: var(--sklearn-color-unfitted-level-3);\n",
       "  color: var(--sklearn-color-background);\n",
       "  text-decoration: none;\n",
       "}\n",
       "\n",
       "div.sk-estimator.fitted:hover .sk-estimator-doc-link.fitted:hover,\n",
       ".sk-estimator-doc-link.fitted:hover,\n",
       "div.sk-label-container:hover .sk-estimator-doc-link.fitted:hover,\n",
       ".sk-estimator-doc-link.fitted:hover {\n",
       "  /* fitted */\n",
       "  background-color: var(--sklearn-color-fitted-level-3);\n",
       "  color: var(--sklearn-color-background);\n",
       "  text-decoration: none;\n",
       "}\n",
       "\n",
       "/* Span, style for the box shown on hovering the info icon */\n",
       ".sk-estimator-doc-link span {\n",
       "  display: none;\n",
       "  z-index: 9999;\n",
       "  position: relative;\n",
       "  font-weight: normal;\n",
       "  right: .2ex;\n",
       "  padding: .5ex;\n",
       "  margin: .5ex;\n",
       "  width: min-content;\n",
       "  min-width: 20ex;\n",
       "  max-width: 50ex;\n",
       "  color: var(--sklearn-color-text);\n",
       "  box-shadow: 2pt 2pt 4pt #999;\n",
       "  /* unfitted */\n",
       "  background: var(--sklearn-color-unfitted-level-0);\n",
       "  border: .5pt solid var(--sklearn-color-unfitted-level-3);\n",
       "}\n",
       "\n",
       ".sk-estimator-doc-link.fitted span {\n",
       "  /* fitted */\n",
       "  background: var(--sklearn-color-fitted-level-0);\n",
       "  border: var(--sklearn-color-fitted-level-3);\n",
       "}\n",
       "\n",
       ".sk-estimator-doc-link:hover span {\n",
       "  display: block;\n",
       "}\n",
       "\n",
       "/* \"?\"-specific style due to the `<a>` HTML tag */\n",
       "\n",
       "#sk-container-id-6 a.estimator_doc_link {\n",
       "  float: right;\n",
       "  font-size: 1rem;\n",
       "  line-height: 1em;\n",
       "  font-family: monospace;\n",
       "  background-color: var(--sklearn-color-background);\n",
       "  border-radius: 1rem;\n",
       "  height: 1rem;\n",
       "  width: 1rem;\n",
       "  text-decoration: none;\n",
       "  /* unfitted */\n",
       "  color: var(--sklearn-color-unfitted-level-1);\n",
       "  border: var(--sklearn-color-unfitted-level-1) 1pt solid;\n",
       "}\n",
       "\n",
       "#sk-container-id-6 a.estimator_doc_link.fitted {\n",
       "  /* fitted */\n",
       "  border: var(--sklearn-color-fitted-level-1) 1pt solid;\n",
       "  color: var(--sklearn-color-fitted-level-1);\n",
       "}\n",
       "\n",
       "/* On hover */\n",
       "#sk-container-id-6 a.estimator_doc_link:hover {\n",
       "  /* unfitted */\n",
       "  background-color: var(--sklearn-color-unfitted-level-3);\n",
       "  color: var(--sklearn-color-background);\n",
       "  text-decoration: none;\n",
       "}\n",
       "\n",
       "#sk-container-id-6 a.estimator_doc_link.fitted:hover {\n",
       "  /* fitted */\n",
       "  background-color: var(--sklearn-color-fitted-level-3);\n",
       "}\n",
       "</style><div id=\"sk-container-id-6\" class=\"sk-top-container\"><div class=\"sk-text-repr-fallback\"><pre>LogisticRegression()</pre><b>In a Jupyter environment, please rerun this cell to show the HTML representation or trust the notebook. <br />On GitHub, the HTML representation is unable to render, please try loading this page with nbviewer.org.</b></div><div class=\"sk-container\" hidden><div class=\"sk-item\"><div class=\"sk-estimator fitted sk-toggleable\"><input class=\"sk-toggleable__control sk-hidden--visually\" id=\"sk-estimator-id-6\" type=\"checkbox\" checked><label for=\"sk-estimator-id-6\" class=\"sk-toggleable__label fitted sk-toggleable__label-arrow\"><div><div>LogisticRegression</div></div><div><a class=\"sk-estimator-doc-link fitted\" rel=\"noreferrer\" target=\"_blank\" href=\"https://scikit-learn.org/1.6/modules/generated/sklearn.linear_model.LogisticRegression.html\">?<span>Documentation for LogisticRegression</span></a><span class=\"sk-estimator-doc-link fitted\">i<span>Fitted</span></span></div></label><div class=\"sk-toggleable__content fitted\"><pre>LogisticRegression()</pre></div> </div></div></div></div>"
      ],
      "text/plain": [
       "LogisticRegression()"
      ]
     },
     "execution_count": 192,
     "metadata": {},
     "output_type": "execute_result"
    }
   ],
   "source": [
    "#Logistic Regression\n",
    "Logreg=LogisticRegression()\n",
    "Logreg.fit(Xtrain, y_train)"
   ]
  },
  {
   "cell_type": "code",
   "execution_count": 193,
   "id": "032f3723",
   "metadata": {},
   "outputs": [
    {
     "name": "stdout",
     "output_type": "stream",
     "text": [
      "Logistic Regression\n",
      "              precision    recall  f1-score   support\n",
      "\n",
      "           0       0.87      0.93      0.90        29\n",
      "           1       0.90      0.82      0.86        22\n",
      "\n",
      "    accuracy                           0.88        51\n",
      "   macro avg       0.89      0.87      0.88        51\n",
      "weighted avg       0.88      0.88      0.88        51\n",
      "\n"
     ]
    }
   ],
   "source": [
    "print('Logistic Regression')\n",
    "print(get_test_score(Logreg,Xtest))"
   ]
  },
  {
   "cell_type": "code",
   "execution_count": 195,
   "id": "9b36819c",
   "metadata": {},
   "outputs": [
    {
     "data": {
      "image/png": "[encoded data removed]",
      "text/plain": [
       "<Figure size 800x600 with 2 Axes>"
      ]
     },
     "metadata": {},
     "output_type": "display_data"
    }
   ],
   "source": [
    "plot_confusion_matrix(Logreg,Xtest)"
   ]
  },
  {
   "cell_type": "code",
   "execution_count": 194,
   "id": "acd12f20",
   "metadata": {},
   "outputs": [
    {
     "data": {
      "image/png": "[encoded data removed]",
      "text/plain": [
       "<Figure size 800x600 with 1 Axes>"
      ]
     },
     "metadata": {},
     "output_type": "display_data"
    }
   ],
   "source": [
    "plot_roc_auc(Logreg,Xtest)"
   ]
  },
  {
   "cell_type": "code",
   "execution_count": 199,
   "id": "ca940cea",
   "metadata": {},
   "outputs": [],
   "source": [
    "#Scaling the data using MinMaxScaler\n",
    "mscaler=MinMaxScaler()\n",
    "X_train_minscaler = scaler.fit_transform(X_train)\n",
    "XtrainMin=pd.DataFrame(X_train_minscaler, columns=X_train.columns)\n",
    "X_test_minscaler = scaler.transform(X_test)\n",
    "XtestMin=pd.DataFrame(X_test_minscaler, columns=X_test.columns)"
   ]
  },
  {
   "cell_type": "code",
   "execution_count": 201,
   "id": "d874e306",
   "metadata": {},
   "outputs": [
    {
     "data": {
      "text/plain": [
       "((201, 19), (51, 19))"
      ]
     },
     "execution_count": 201,
     "metadata": {},
     "output_type": "execute_result"
    }
   ],
   "source": [
    "XtrainMin.shape, XtestMin.shape"
   ]
  },
  {
   "cell_type": "code",
   "execution_count": 228,
   "id": "2e4644aa",
   "metadata": {},
   "outputs": [
    {
     "name": "stdout",
     "output_type": "stream",
     "text": [
      "Best parameters for KNN Classifier:  {'metric': 'euclidean', 'n_neighbors': np.int64(15)} \n",
      "\n"
     ]
    }
   ],
   "source": [
    "#KNN Tuning Hyperparameters\n",
    "tuned_parameters = {\n",
    "    'n_neighbors': np.arange(1, 20, 2),\n",
    "    'metric': ['euclidean', 'manhattan', 'chebyshev']\n",
    "}\n",
    "knn=KNeighborsClassifier()\n",
    "knn_cv=GridSearchCV(knn,tuned_parameters,cv=5,scoring='recall')\n",
    "knn_cv.fit(Xtrain,y_train)\n",
    "print('Best parameters for KNN Classifier: ', knn_cv.best_params_, '\\n')\n"
   ]
  },
  {
   "cell_type": "code",
   "execution_count": 229,
   "id": "e8d0a016",
   "metadata": {},
   "outputs": [
    {
     "name": "stdout",
     "output_type": "stream",
     "text": [
      "KNN Classifier\n",
      "              precision    recall  f1-score   support\n",
      "\n",
      "           0       0.78      0.86      0.82        29\n",
      "           1       0.79      0.68      0.73        22\n",
      "\n",
      "    accuracy                           0.78        51\n",
      "   macro avg       0.79      0.77      0.78        51\n",
      "weighted avg       0.78      0.78      0.78        51\n",
      "\n"
     ]
    },
    {
     "data": {
      "image/png": "[encoded data removed]",
      "text/plain": [
       "<Figure size 800x600 with 2 Axes>"
      ]
     },
     "metadata": {},
     "output_type": "display_data"
    },
    {
     "data": {
      "image/png": "[encoded data removed]",
      "text/plain": [
       "<Figure size 800x600 with 1 Axes>"
      ]
     },
     "metadata": {},
     "output_type": "display_data"
    }
   ],
   "source": [
    "Knn15=KNeighborsClassifier(n_neighbors=15, metric='euclidean')\n",
    "Knn15.fit(Xtrain, y_train)\n",
    "print('KNN Classifier')\n",
    "print(get_test_score(Knn15,Xtest))\n",
    "plot_confusion_matrix(Knn15,Xtest)\n",
    "plot_roc_auc(Knn15,Xtest)"
   ]
  },
  {
   "cell_type": "code",
   "execution_count": null,
   "id": "06a26fa0",
   "metadata": {},
   "outputs": [],
   "source": []
  }
 ],
 "metadata": {
  "kernelspec": {
   "display_name": ".venv",
   "language": "python",
   "name": "python3"
  },
  "language_info": {
   "codemirror_mode": {
    "name": "ipython",
    "version": 3
   },
   "file_extension": ".py",
   "mimetype": "text/x-python",
   "name": "python",
   "nbconvert_exporter": "python",
   "pygments_lexer": "ipython3",
   "version": "3.12.1"
  }
 },
 "nbformat": 4,
 "nbformat_minor": 5
}
